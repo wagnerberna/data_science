{
 "cells": [
  {
   "cell_type": "code",
   "execution_count": 6,
   "metadata": {},
   "outputs": [],
   "source": [
    "import pyautogui\n",
    "from selenium import webdriver\n",
    "from selenium.webdriver.common.by import By\n",
    "from selenium.webdriver.common.keys import Keys\n"
   ]
  },
  {
   "cell_type": "code",
   "execution_count": null,
   "metadata": {},
   "outputs": [],
   "source": [
    "# Chrome abre e fecha sozinho\n",
    "# driver = webdriver.Chrome()\n",
    "# url = \"https://www.google.com.br/\"\n",
    "# driver.get(url)\n",
    "# pyautogui.sleep(10)"
   ]
  },
  {
   "cell_type": "code",
   "execution_count": 20,
   "metadata": {},
   "outputs": [
    {
     "name": "stderr",
     "output_type": "stream",
     "text": [
      "[WDM] - Downloading: 100%|██████████| 6.68M/6.68M [00:00<00:00, 10.8MB/s]\n"
     ]
    }
   ],
   "source": [
    "import pyautogui\n",
    "from selenium import webdriver\n",
    "from selenium.webdriver.chrome.service import Service\n",
    "from webdriver_manager.chrome import ChromeDriverManager\n",
    "from selenium.webdriver.common.by import By\n",
    "from selenium.webdriver.common.keys import Keys\n",
    "driver = webdriver.Chrome(service=Service(ChromeDriverManager().install()))\n"
   ]
  },
  {
   "cell_type": "code",
   "execution_count": 21,
   "metadata": {},
   "outputs": [
    {
     "name": "stdout",
     "output_type": "stream",
     "text": [
      "url: Teste de velocidade da Internet\n"
     ]
    }
   ],
   "source": [
    "# Abrir URL\n",
    "url = \"https://www.google.com.br/\"\n",
    "driver.get(url)\n",
    "# buscar (name, id, XPATH)\n",
    "driver.find_element(By.NAME, \"q\").send_keys(\"teste velocidade\")\n",
    "pyautogui.sleep(2)\n",
    "driver.find_element(By.NAME, \"q\").send_keys(Keys.RETURN)\n",
    "pyautogui.sleep(2)\n",
    "# captura baseada no XPath (aspas simples)\n",
    "# elements plural para arrays de elementos\n",
    "first_url = driver.find_elements(By.XPATH, '//*[@id=\"rso\"]/div[1]/div/block-component/div/div[1]/div/div/div/div[1]/div/div/div/div/div[1]')[0].text\n",
    "\n",
    "print(\"url:\", first_url)\n",
    "\n"
   ]
  },
  {
   "cell_type": "code",
   "execution_count": 34,
   "metadata": {},
   "outputs": [],
   "source": [
    "url = \"https://www.speedtest.net/pt\"\n",
    "\n",
    "driver.get(url)\n",
    "pyautogui.sleep(10)\n",
    "# find element no singular quando é apenas 1 elemento\n",
    "connection_test = driver.find_element(By.XPATH, '//*[@id=\"container\"]/div/div[3]/div/div/div/div[2]/div[3]/div[1]/a/span[4]').click()\n"
   ]
  }
 ],
 "metadata": {
  "kernelspec": {
   "display_name": "Python 3.10.5 64-bit",
   "language": "python",
   "name": "python3"
  },
  "language_info": {
   "codemirror_mode": {
    "name": "ipython",
    "version": 3
   },
   "file_extension": ".py",
   "mimetype": "text/x-python",
   "name": "python",
   "nbconvert_exporter": "python",
   "pygments_lexer": "ipython3",
   "version": "3.10.5"
  },
  "orig_nbformat": 4,
  "vscode": {
   "interpreter": {
    "hash": "bc3950fb5dc555ca32ff44e1297c54743b5b1b732b15efdb53deabfbd4ee276b"
   }
  }
 },
 "nbformat": 4,
 "nbformat_minor": 2
}
