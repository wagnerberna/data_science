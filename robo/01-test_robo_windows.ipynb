{
 "cells": [
  {
   "cell_type": "code",
   "execution_count": 1,
   "metadata": {},
   "outputs": [],
   "source": [
    "import pyautogui\n"
   ]
  },
  {
   "cell_type": "code",
   "execution_count": 25,
   "metadata": {},
   "outputs": [
    {
     "name": "stdout",
     "output_type": "stream",
     "text": [
      "Point(x=604, y=337)\n"
     ]
    }
   ],
   "source": [
    "pyautogui.sleep(4)\n",
    "print( pyautogui.position())"
   ]
  },
  {
   "cell_type": "code",
   "execution_count": 5,
   "metadata": {},
   "outputs": [],
   "source": [
    "# doubleClick\n",
    "pyautogui.moveTo(x=47, y=17)\n",
    "pyautogui.click(x=28, y=749)\n",
    "pyautogui.sleep(2)\n",
    "pyautogui.typewrite(\"excel\")\n"
   ]
  },
  {
   "cell_type": "code",
   "execution_count": 14,
   "metadata": {},
   "outputs": [],
   "source": [
    "pyautogui.click(x=28, y=749)\n",
    "pyautogui.sleep(2)\n",
    "pyautogui.click(x=89, y=217)\n"
   ]
  },
  {
   "cell_type": "code",
   "execution_count": 26,
   "metadata": {},
   "outputs": [],
   "source": [
    "# Testar conexão internet\n",
    "# aba em branco\n",
    "pyautogui.click(x=293, y=745)\n",
    "pyautogui.sleep(4)\n",
    "pyautogui.typewrite(\"https://www.minhaconexao.com.br/\")\n",
    "pyautogui.press(\"enter\")\n",
    "pyautogui.sleep(2)\n",
    "pyautogui.click(x=604, y=337)"
   ]
  },
  {
   "cell_type": "code",
   "execution_count": 6,
   "metadata": {},
   "outputs": [],
   "source": [
    "# hotkey Atalhos e getActiveWindow controle de Janela\n",
    "# \"enter\" \"tab\"\n",
    "pyautogui.hotkey(\"win\", \"r\")\n",
    "pyautogui.sleep(2)\n",
    "pyautogui.typewrite(\"cmd\")\n",
    "pyautogui.press(\"enter\")\n",
    "pyautogui.sleep(2)\n",
    "pyautogui.write(\"ping 10.1.10.50\")\n",
    "pyautogui.press(\"enter\")\n",
    "pyautogui.sleep(5)\n",
    "cmd = pyautogui.getActiveWindow()\n",
    "pyautogui.sleep(3)\n",
    "cmd.close()\n"
   ]
  },
  {
   "cell_type": "code",
   "execution_count": 7,
   "metadata": {},
   "outputs": [],
   "source": [
    "# botões de multipla escolha\n",
    "options = pyautogui.confirm(\"Clique na opção:\", buttons= [\"Testar Velocidade Internet.\",\"Testar Servidor\"] )\n",
    "if options == \"Testar Velocidade Internet.\":\n",
    "    pyautogui.click(x=293, y=745)\n",
    "    pyautogui.sleep(4)\n",
    "    pyautogui.typewrite(\"https://www.minhaconexao.com.br/\")\n",
    "    pyautogui.press(\"enter\")\n",
    "    pyautogui.sleep(2)\n",
    "    pyautogui.click(x=604, y=337)\n",
    "elif options == \"Testar Servidor\":\n",
    "    pyautogui.hotkey(\"win\", \"r\")\n",
    "    pyautogui.sleep(2)\n",
    "    pyautogui.typewrite(\"cmd\")\n",
    "    pyautogui.press(\"enter\")\n",
    "    pyautogui.sleep(2)\n",
    "    pyautogui.write(\"ping 10.1.10.50\")\n",
    "    pyautogui.press(\"enter\")\n",
    "    pyautogui.sleep(5)\n",
    "    cmd = pyautogui.getActiveWindow()\n",
    "    pyautogui.sleep(3)\n",
    "    cmd.close()\n",
    "\n",
    "\n"
   ]
  }
 ],
 "metadata": {
  "kernelspec": {
   "display_name": "Python 3.10.5 64-bit",
   "language": "python",
   "name": "python3"
  },
  "language_info": {
   "codemirror_mode": {
    "name": "ipython",
    "version": 3
   },
   "file_extension": ".py",
   "mimetype": "text/x-python",
   "name": "python",
   "nbconvert_exporter": "python",
   "pygments_lexer": "ipython3",
   "version": "3.10.5"
  },
  "orig_nbformat": 4,
  "vscode": {
   "interpreter": {
    "hash": "bc3950fb5dc555ca32ff44e1297c54743b5b1b732b15efdb53deabfbd4ee276b"
   }
  }
 },
 "nbformat": 4,
 "nbformat_minor": 2
}
