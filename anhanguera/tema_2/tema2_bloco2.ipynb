{
 "cells": [
  {
   "cell_type": "code",
   "execution_count": 6,
   "metadata": {},
   "outputs": [
    {
     "data": {
      "text/plain": [
       "array([(nan, 20., 40.), (nan, 30., 60.), (nan, 15., 20.)],\n",
       "      dtype=[('atendente', '<f8'), ('chamados', '<f8'), ('tempo', '<f8')])"
      ]
     },
     "execution_count": 6,
     "metadata": {},
     "output_type": "execute_result"
    }
   ],
   "source": [
    "import numpy as np\n",
    "from matplotlib import pyplot as plt\n",
    "\n",
    "file = \"C:/0-BK/0-Vscode/data_science/anhanguera/tema_2/chamados.csv\"\n",
    "\n",
    "data = np.genfromtxt(file, delimiter=\";\", names=True, deletechars=\" !#$%&'()*+, -./:;<=>?@[\\\\]^{|}~ï»¿\")\n",
    "data\n"
   ]
  },
  {
   "cell_type": "code",
   "execution_count": 8,
   "metadata": {},
   "outputs": [
    {
     "name": "stdout",
     "output_type": "stream",
     "text": [
      "[40. 60. 20.] [0.66666667 1.         0.33333333]\n"
     ]
    }
   ],
   "source": [
    "# Numpy Permite operações com o array inteiro\n",
    "\n",
    "time = data[\"tempo\"]\n",
    "\n",
    "sla = data[\"tempo\"] / 60\n",
    "\n",
    "data[\"atendente\"]\n",
    "\n",
    "\n",
    "# plt.scatter(data[\"atendente\"], data[\"chamados\"])\n",
    "\n",
    "# plt.bar(data[\"atendente\"], data[\"chamados\"])\n",
    "\n",
    "print(time, sla)"
   ]
  }
 ],
 "metadata": {
  "kernelspec": {
   "display_name": "Python 3",
   "language": "python",
   "name": "python3"
  },
  "language_info": {
   "codemirror_mode": {
    "name": "ipython",
    "version": 3
   },
   "file_extension": ".py",
   "mimetype": "text/x-python",
   "name": "python",
   "nbconvert_exporter": "python",
   "pygments_lexer": "ipython3",
   "version": "3.11.2"
  },
  "orig_nbformat": 4
 },
 "nbformat": 4,
 "nbformat_minor": 2
}
