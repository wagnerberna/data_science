{
 "cells": [
  {
   "cell_type": "code",
   "execution_count": 9,
   "metadata": {},
   "outputs": [],
   "source": [
    "import pyautogui"
   ]
  },
  {
   "cell_type": "code",
   "execution_count": 8,
   "metadata": {},
   "outputs": [],
   "source": [
    "pyautogui.sleep(10)\n",
    "pyautogui.hotkey(\"alt\",\"tab\")"
   ]
  },
  {
   "cell_type": "code",
   "execution_count": null,
   "metadata": {},
   "outputs": [
    {
     "ename": "",
     "evalue": "",
     "output_type": "error",
     "traceback": [
      "\u001b[1;31mThe Kernel crashed while executing code in the the current cell or a previous cell. Please review the code in the cell(s) to identify a possible cause of the failure. Click <a href='https://aka.ms/vscodeJupyterKernelCrash'>here</a> for more info. View Jupyter <a href='command:jupyter.viewOutput'>log</a> for further details."
     ]
    }
   ],
   "source": [
    "from tkinter import *\n",
    "import pyautogui\n",
    "\n",
    "def start():\n",
    "    button_close = Button(app, text= \"Sair\", fg= \"white\", bg=\"red\", font=\"Arial 20\", command=app.destroy)\n",
    "    button_close.grid(row=4, column=2, columnspan=2, sticky=\"W\")\n",
    "    pyautogui.sleep(120)\n",
    "    pyautogui.hotkey(\"alt\",\"tab\")\n",
    "\n",
    "app = Tk()\n",
    "app.geometry(\"200x200\")\n",
    "app.title(\"TV-Monitoramento\")\n",
    "\n",
    "button_open = Button(text=\"Abrir\", fg= \"white\", bg=\"green\", font=\"Arial 20\", command=start)\n",
    "button_open.grid(row=3, column=1, columnspan=2, sticky=\"NSEW\")\n",
    "\n",
    "app.mainloop()\n"
   ]
  }
 ],
 "metadata": {
  "kernelspec": {
   "display_name": "Python 3",
   "language": "python",
   "name": "python3"
  },
  "language_info": {
   "codemirror_mode": {
    "name": "ipython",
    "version": 3
   },
   "file_extension": ".py",
   "mimetype": "text/x-python",
   "name": "python",
   "nbconvert_exporter": "python",
   "pygments_lexer": "ipython3",
   "version": "3.12.0"
  }
 },
 "nbformat": 4,
 "nbformat_minor": 2
}
