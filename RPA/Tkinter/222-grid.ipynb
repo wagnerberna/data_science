{
 "cells": [
  {
   "cell_type": "code",
   "execution_count": null,
   "metadata": {},
   "outputs": [],
   "source": [
    "from tkinter import *\n",
    "#Tk - Janela / Tela\n",
    "#mainloop - Looping infinito na janela até ser fechada\n",
    "# pack add objeto dentro da tela\n",
    "app = Tk()\n",
    "app.title(\"Título Barra\")\n",
    "\n",
    "# title_1 = Label(text=\"Título 1\").pack()\n",
    "\n",
    "#for - para\n",
    "for linha in range(5):\n",
    "    \n",
    "    for coluna in range(3):\n",
    "        \n",
    "        #master: Mestre - Representa a Janela PAI\n",
    "        table_01 = Frame(\n",
    "            master = app,\n",
    "            relief = RAISED,\n",
    "            borderwidth = 1\n",
    "        )\n",
    "        #padx - Espaçamento entre colunas\n",
    "        #pady - Espaçamento entre linhas\n",
    "        table_01.grid(row=linha, column=coluna, padx=5, pady=5)\n",
    "        label_01 = Label(master=table_01, text = f\"Linha {linha}\\n Coluna {coluna}\").pack()\n",
    "        \n",
    "\n",
    "app.mainloop()"
   ]
  }
 ],
 "metadata": {
  "language_info": {
   "name": "python"
  }
 },
 "nbformat": 4,
 "nbformat_minor": 2
}
