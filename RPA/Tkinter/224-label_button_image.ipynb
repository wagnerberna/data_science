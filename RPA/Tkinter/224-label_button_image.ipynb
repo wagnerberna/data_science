{
 "cells": [
  {
   "cell_type": "code",
   "execution_count": 35,
   "metadata": {},
   "outputs": [],
   "source": [
    "# PIL = Pillow (recursos para processamento de imagem)\n",
    "\n",
    "# import sys\n",
    "# if \"Tkinter\" not in sys.modules:\n",
    "#     from tkinter import *\n",
    "\n",
    "from tkinter import *\n",
    "from PIL import ImageTk, Image\n",
    "\n",
    "app = Tk()\n",
    "app.geometry(\"960x760\")\n",
    "\n",
    "app.title(\"Botões com Imagem\")\n",
    "\n",
    "Label(app, text = \"Imagem\", \n",
    "     font = (\"Verdana 15\")).pack()\n",
    "\n",
    "#Configurando o caminho e a imagem\n",
    "path_image_button = ImageTk.PhotoImage(Image.open(\"img/sair.png\"))\n",
    "botaoComImagem = Button(image = path_image_button, command=app.destroy)\n",
    "\n",
    "botaoComImagem.pack()\n",
    "\n",
    "app.mainloop()"
   ]
  },
  {
   "cell_type": "code",
   "execution_count": 44,
   "metadata": {},
   "outputs": [],
   "source": [
    "# Imagem plano de fundo\n",
    "from tkinter import *\n",
    "from PIL import ImageTk, Image\n",
    "\n",
    "app = Tk()\n",
    "app.geometry(\"960x760\")\n",
    "\n",
    "app.title(\"Papel de Parede\")\n",
    "\n",
    "#Configurando o caminho e a imagem\n",
    "path_image_wall = ImageTk.PhotoImage(Image.open(\"img/wallpaper.jpg\"))\n",
    "\n",
    "label_wall = Label(image = path_image_wall)\n",
    "label_wall.place(x=0, y=0)\n",
    "label_wall.pack()\n",
    "\n",
    "app.mainloop()"
   ]
  }
 ],
 "metadata": {
  "kernelspec": {
   "display_name": "Python 3",
   "language": "python",
   "name": "python3"
  },
  "language_info": {
   "codemirror_mode": {
    "name": "ipython",
    "version": 3
   },
   "file_extension": ".py",
   "mimetype": "text/x-python",
   "name": "python",
   "nbconvert_exporter": "python",
   "pygments_lexer": "ipython3",
   "version": "3.11.4"
  }
 },
 "nbformat": 4,
 "nbformat_minor": 2
}
