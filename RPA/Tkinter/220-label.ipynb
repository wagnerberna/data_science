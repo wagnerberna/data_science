{
 "cells": [
  {
   "cell_type": "markdown",
   "metadata": {},
   "source": [
    "#### tkinter\n",
    "Comando DOS de teste:\n",
    "python -m tkinter"
   ]
  },
  {
   "cell_type": "code",
   "execution_count": 2,
   "metadata": {},
   "outputs": [],
   "source": [
    "from tkinter import *"
   ]
  },
  {
   "cell_type": "code",
   "execution_count": 106,
   "metadata": {},
   "outputs": [],
   "source": [
    "# from tkinter import *\n",
    "from tkinter import Label\n",
    "\n",
    "#Tk - Janela / Tela\n",
    "#mainloop - Looping infinito na janela até ser fechada\n",
    "# pack add objeto dentro da tela\n",
    "app = Tk()\n",
    "app.title(\"Título Barra\")\n",
    "\n",
    "title_1 = Label(text=\"Título 1\")\n",
    "title_1.pack()\n",
    "\n",
    "title_2 = Label(text=\"Título 2\")\n",
    "title_2.pack()\n",
    "\n",
    "#relief - Relevo - Borda decorativa ao redor do rótulo\n",
    "label_01 = Label(app, text = \"opção: FLAT\", relief=FLAT)\n",
    "label_02 = Label(app, text = \"opção: RAISED\", relief=RAISED)\n",
    "label_03 = Label(app, text = \"opção: SUNKEN\", relief=SUNKEN)\n",
    "label_04 = Label(app, text = \"opção: GROOVE\", relief=GROOVE)\n",
    "label_05 = Label(app, text = \"opção: RIDGE\", relief=RIDGE)\n",
    "\n",
    "label_01.pack()\n",
    "label_02.pack()\n",
    "label_03.pack()\n",
    "label_04.pack()\n",
    "label_05.pack()\n",
    "\n",
    "app.mainloop()"
   ]
  },
  {
   "cell_type": "code",
   "execution_count": 3,
   "metadata": {},
   "outputs": [],
   "source": [
    "from tkinter import *\n",
    "#Tk - Janela / Tela\n",
    "#mainloop - Looping infinito na janela até ser fechada\n",
    "# pack add objeto dentro da tela\n",
    "app = Tk()\n",
    "app.title(\"Título Barra\")\n",
    "\n",
    "title_1 = Label(text=\"Título 1\")\n",
    "title_1.pack()\n",
    "\n",
    "title_2 = Label(text=\"Título 2\")\n",
    "title_2.pack()\n",
    "\n",
    "text = \"\"\"Teste texto 01\n",
    "Teste texto 02\n",
    "com quebra de linha\"\"\"\n",
    "label_text = Label(app, text = text, relief=FLAT, bg=\"blue\", fg=\"white\", font=\"Arial 20 bold\", borderwidth=5).pack()\n",
    "\n",
    "#relief - Relevo - Borda decorativa ao redor do rótulo\n",
    "label_01 = Label(app, text = \"opção: Python\", relief=RAISED, bg=\"green\", fg=\"white\")\n",
    "label_02 = Label(app, text = \"opção: Python\", relief=RAISED, bg=\"blue\", fg=\"white\", font=\"Mangal 20\")\n",
    "label_03 = Label(app, text = \"opção: Python\", relief=RAISED, bg=\"green\", fg=\"white\", font=\"Arial 20 bold\", borderwidth=25)\n",
    "label_03 = Label(app, text = \"opção: Python\", relief=RAISED, bg=\"blue\", fg=\"white\", font=\"Arial 20 bold\", borderwidth=5)\n",
    "\n",
    "label_01.pack()\n",
    "label_02.pack()\n",
    "label_03.pack()\n",
    "\n",
    "app.mainloop()"
   ]
  }
 ],
 "metadata": {
  "kernelspec": {
   "display_name": "Python 3",
   "language": "python",
   "name": "python3"
  },
  "language_info": {
   "codemirror_mode": {
    "name": "ipython",
    "version": 3
   },
   "file_extension": ".py",
   "mimetype": "text/x-python",
   "name": "python",
   "nbconvert_exporter": "python",
   "pygments_lexer": "ipython3",
   "version": "3.11.4"
  },
  "orig_nbformat": 4
 },
 "nbformat": 4,
 "nbformat_minor": 2
}
