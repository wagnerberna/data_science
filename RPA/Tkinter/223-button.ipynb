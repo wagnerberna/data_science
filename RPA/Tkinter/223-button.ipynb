{
 "cells": [
  {
   "cell_type": "code",
   "execution_count": 19,
   "metadata": {},
   "outputs": [],
   "source": [
    "# from tkinter import *\n",
    "from tkinter import Tk, Button, messagebox\n",
    "\n",
    "app = Tk()\n",
    "app.title(\"Título Barra\")\n",
    "\n",
    "def message():\n",
    "    messagebox.showinfo(\"Info!\", \"teste teste teste\")\n",
    "    messagebox.showerror(\"Error!\", \"teste teste teste\")\n",
    "    messagebox.showwarning(\"Warning!\", \"teste teste teste\")\n",
    "\n",
    "button_message_2 = Button(app, text=\"Clique Aqui\", fg= \"white\", bg=\"green\",\n",
    "                        command = message).pack(side = TOP)\n",
    "\n",
    "button_message_2 = Button(app, text=\"Clique Aqui\", fg= \"white\", bg=\"green\",\n",
    "                        command = message).pack(side = BOTTOM)\n",
    "\n",
    "button_message = Button(app, text=\"Clique Aqui\", fg= \"white\", bg=\"green\",\n",
    "                        command = message).pack(side = LEFT)\n",
    "\n",
    "button_close = Button(app, text= \"Sair\", fg= \"white\", bg=\"red\", \n",
    "                      command=app.destroy).pack(side = RIGHT)\n",
    "button_close_2 = Button(app, text= \"Sair\", fg= \"white\", bg=\"red\", \n",
    "                      command=app.destroy).pack(side = RIGHT)\n",
    "\n",
    "\n",
    "app.mainloop()"
   ]
  }
 ],
 "metadata": {
  "kernelspec": {
   "display_name": "Python 3",
   "language": "python",
   "name": "python3"
  },
  "language_info": {
   "codemirror_mode": {
    "name": "ipython",
    "version": 3
   },
   "file_extension": ".py",
   "mimetype": "text/x-python",
   "name": "python",
   "nbconvert_exporter": "python",
   "pygments_lexer": "ipython3",
   "version": "3.11.4"
  }
 },
 "nbformat": 4,
 "nbformat_minor": 2
}
