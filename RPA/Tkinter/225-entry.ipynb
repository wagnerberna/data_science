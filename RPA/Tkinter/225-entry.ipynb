{
 "cells": [
  {
   "cell_type": "markdown",
   "metadata": {},
   "source": [
    "#### Entry: Campo entrada de dados\n",
    "\n",
    "stick: N S E W \"Norte, Sul, Leste e Oeste\", podem ser combinados.\n",
    "columnspan: Quantas colunas do grid vai ocupar."
   ]
  },
  {
   "cell_type": "code",
   "execution_count": 5,
   "metadata": {},
   "outputs": [],
   "source": [
    "from tkinter import *\n",
    "\n",
    "app = Tk()\n",
    "app.geometry(\"840x640\")\n",
    "\n",
    "app.title(\"Entry\")\n",
    "\n",
    "name = Label(text = \"Nome: \", font=\"Arial 20\")\n",
    "name.grid(row=1, column=0, sticky=\"W\")\n",
    "\n",
    "name_field = Entry(font = \"Arial 20\")\n",
    "name_field.grid(row=1, column=1, sticky=\"W\")\n",
    "\n",
    "lastname = Label(text = \"Sobrenome: \", font=\"Arial 20\")\n",
    "lastname.grid(row=2, column=0, sticky=\"W\")\n",
    "\n",
    "lastname_field = Entry(font = \"Arial 20\")\n",
    "lastname_field.grid(row=2, column=1, sticky=\"W\")\n",
    "\n",
    "app.mainloop()"
   ]
  },
  {
   "cell_type": "code",
   "execution_count": 27,
   "metadata": {},
   "outputs": [],
   "source": [
    "from tkinter import *\n",
    "from tkinter import messagebox\n",
    "\n",
    "app = Tk()\n",
    "# app.geometry(\"840x640\")\n",
    "app.attributes(\"-fullscreen\", False)\n",
    "\n",
    "app.title(\"Entry\")\n",
    "\n",
    "def login():\n",
    "    username = str(field_username.get())\n",
    "    password = str(field_password.get())\n",
    "    if username == \"wb\" and password == \"123\":\n",
    "        messagebox.showinfo(\"Message\", \"Bem Vindo!\")\n",
    "    else:\n",
    "        messagebox.showinfo(\"Message\", \"Usuário ou senha inválido!\")\n",
    "\n",
    "label_username = Label(text = \"Nome: \", font=\"Arial 20\")\n",
    "label_username.grid(row=1, column=0, sticky=\"W\")\n",
    "\n",
    "field_username = Entry(font = \"Arial 20\")\n",
    "field_username.grid(row=1, column=1, sticky=\"W\")\n",
    "\n",
    "label_password = Label(text = \"Senha: \", font=\"Arial 20\")\n",
    "label_password.grid(row=2, column=0, sticky=\"W\")\n",
    "\n",
    "field_password = Entry(font = \"Arial 20\", show=\"*\")\n",
    "field_password.grid(row=2, column=1, sticky=\"W\")\n",
    "\n",
    "button_login = Button(text=\"Logar\", fg= \"white\", bg=\"green\", font=\"Arial 20\", command=login)\n",
    "button_login.grid(row=3, column=1, columnspan=2, sticky=\"NSEW\")\n",
    "\n",
    "button_close = Button(app, text= \"Sair\", fg= \"white\", bg=\"red\", font=\"Arial 20\", command=app.destroy)\n",
    "button_close.grid(row=4, column=2, columnspan=2, sticky=\"W\")\n",
    "\n",
    "app.mainloop()"
   ]
  },
  {
   "cell_type": "code",
   "execution_count": null,
   "metadata": {},
   "outputs": [],
   "source": []
  }
 ],
 "metadata": {
  "kernelspec": {
   "display_name": "Python 3",
   "language": "python",
   "name": "python3"
  },
  "language_info": {
   "codemirror_mode": {
    "name": "ipython",
    "version": 3
   },
   "file_extension": ".py",
   "mimetype": "text/x-python",
   "name": "python",
   "nbconvert_exporter": "python",
   "pygments_lexer": "ipython3",
   "version": "3.11.4"
  }
 },
 "nbformat": 4,
 "nbformat_minor": 2
}
