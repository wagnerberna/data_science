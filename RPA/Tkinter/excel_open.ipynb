{
 "cells": [
  {
   "cell_type": "code",
   "execution_count": null,
   "metadata": {},
   "outputs": [],
   "source": [
    "from tkinter import *\n",
    "from tkinter import messagebox, filedialog\n",
    "import pandas as pd\n",
    "\n",
    "def open_excel_file():\n",
    "        \n",
    "        # Define os tipos de arquivos que podem ser abertos\n",
    "        type_file_open = ((\"Excel files\", \"*.xlsx;*.xls\"), (\"All files\", \"*.*\"))\n",
    "        \n",
    "        # Abre a janela para selecionar o arquivo e armazena o caminho na variável \"tipo_de_arquivo\"\n",
    "        nome_do_arquivo = filedialog.askopenfilename(title=\"Selecione o arquivo\", filetypes=type_file_open)\n",
    "        \n",
    "        try:\n",
    "            # Lê o arquivo excel com a biblioteca Pandas e armazena o conteúdo na variável \"df\"\n",
    "            df = pd.read_excel(nome_do_arquivo)\n",
    "            print(df)\n",
    "            \n",
    "        except Exception as e:\n",
    "            # Exibe mensagem de erro caso não seja possível abrir o arquivo\n",
    "            messagebox.showerror(\"Erro\", f\"Não foi possível abrir o arquivo: {e}\")\n",
    "         \n",
    "app = Tk()\n",
    "app.geometry(\"840x640\")\n",
    "app.title(\"Open File\")\n",
    "\n",
    "button_open = Button(text=\"Abrir\", fg= \"white\", bg=\"green\", font=\"Arial 20\", command=open_excel_file)\n",
    "button_open.grid(row=3, column=1, columnspan=2, sticky=\"NSEW\")\n",
    "\n",
    "button_close = Button(app, text= \"Sair\", fg= \"white\", bg=\"red\", font=\"Arial 20\", command=app.destroy)\n",
    "button_close.grid(row=4, column=2, columnspan=2, sticky=\"W\")\n",
    "\n",
    "app.mainloop()"
   ]
  },
  {
   "cell_type": "code",
   "execution_count": null,
   "metadata": {},
   "outputs": [],
   "source": [
    "\n",
    "\n",
    "    "
   ]
  },
  {
   "cell_type": "code",
   "execution_count": null,
   "metadata": {},
   "outputs": [],
   "source": []
  }
 ],
 "metadata": {
  "kernelspec": {
   "display_name": "Python 3",
   "language": "python",
   "name": "python3"
  },
  "language_info": {
   "codemirror_mode": {
    "name": "ipython",
    "version": 3
   },
   "file_extension": ".py",
   "mimetype": "text/x-python",
   "name": "python",
   "nbconvert_exporter": "python",
   "pygments_lexer": "ipython3",
   "version": "3.12.0"
  }
 },
 "nbformat": 4,
 "nbformat_minor": 2
}
