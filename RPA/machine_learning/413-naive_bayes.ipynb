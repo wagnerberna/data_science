{
 "cells": [
  {
   "cell_type": "code",
   "execution_count": 3,
   "metadata": {},
   "outputs": [],
   "source": [
    "import numpy as np\n",
    "\n",
    "# ttk (themed tkinter) é um conjunto de widgets estendidos que são estilizados\n",
    "# para se parecer melhor com o sistema operacional.\n",
    "import tkinter as tk\n",
    "from tkinter import ttk\n",
    "\n",
    "# Importa a classe TfidfVectorizer para transformar texto em vetores numéricos\n",
    "from sklearn.feature_extraction.text import TfidfVectorizer\n",
    "\n",
    "# MultinomialNB é uma implementação do algoritmo Naive Bayes para classificação de texto.\n",
    "from sklearn.naive_bayes import MultinomialNB\n",
    "\n",
    "# make_pipeline é uma função que ajuda a criar um pipeline de aprendizado de máquina, \n",
    "# permitindo que você encadeie múltiplas etapas de processamento e modelagem juntas.\n",
    "from sklearn.pipeline import make_pipeline"
   ]
  },
  {
   "cell_type": "code",
   "execution_count": 2,
   "metadata": {},
   "outputs": [],
   "source": [
    "# Define um conjunto de treinamento com perguntas frequentes\n",
    "questions_training = [\"Qual é o seu nome?\", \"Como você está?\", \"O que você faz?\", \"Você gosta de programar?\"]\n",
    "\n",
    "# Define as respostas correspondentes para cada pergunta no conjunto de treinamento\n",
    "requests_training = [\"Meu nome é Rob.\", \"Estou funcionando bem, obrigado!\", \"Eu respondo a perguntas.\", \"Sim, eu adoro programar!\"]"
   ]
  },
  {
   "cell_type": "code",
   "execution_count": null,
   "metadata": {},
   "outputs": [],
   "source": [
    "# Inicializa o transformador TF-IDF (Term Frequency-Inverse Document Frequency)\n",
    "vectorizer = TfidfVectorizer()"
   ]
  }
 ],
 "metadata": {
  "kernelspec": {
   "display_name": "Python 3",
   "language": "python",
   "name": "python3"
  },
  "language_info": {
   "codemirror_mode": {
    "name": "ipython",
    "version": 3
   },
   "file_extension": ".py",
   "mimetype": "text/x-python",
   "name": "python",
   "nbconvert_exporter": "python",
   "pygments_lexer": "ipython3",
   "version": "3.11.4"
  }
 },
 "nbformat": 4,
 "nbformat_minor": 2
}
