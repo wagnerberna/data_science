{
 "cells": [
  {
   "cell_type": "code",
   "execution_count": 29,
   "metadata": {},
   "outputs": [
    {
     "data": {
      "text/plain": [
       "(81231, 28)"
      ]
     },
     "execution_count": 29,
     "metadata": {},
     "output_type": "execute_result"
    }
   ],
   "source": [
    "import numpy\n",
    "import pandas\n",
    "from sklearn.model_selection import train_test_split\n",
    "\n",
    "# POPULAÇÃO:\n",
    "data7 = pandas.read_csv(\"csv/04-classificados_tratado.csv\", sep=\",\", encoding=\"iso-8859-1\")\n",
    "data7.shape"
   ]
  },
  {
   "cell_type": "code",
   "execution_count": 30,
   "metadata": {},
   "outputs": [
    {
     "data": {
      "text/plain": [
       "(1982, 28)"
      ]
     },
     "execution_count": 30,
     "metadata": {},
     "output_type": "execute_result"
    }
   ],
   "source": [
    "# AMOSTRAGEM: Cidade de Campinas\n",
    "campinas = data7.loc[data7.NO_MUNICIPIO_RESIDENCIA == \"Campinas\"]\n",
    "campinas.shape"
   ]
  },
  {
   "cell_type": "code",
   "execution_count": 31,
   "metadata": {},
   "outputs": [
    {
     "data": {
      "text/plain": [
       "branca           1538\n",
       "parda             287\n",
       "preta              61\n",
       "amarela            57\n",
       "nao_declarado      37\n",
       "indigena            2\n",
       "Name: RACA, dtype: int64"
      ]
     },
     "execution_count": 31,
     "metadata": {},
     "output_type": "execute_result"
    }
   ],
   "source": [
    "# AMOSTRAGEM ESTRATIFICADA: (Divisão da pop. em grupos, e retira uma amostra desses grupos)\n",
    "campinas[\"RACA\"].value_counts()"
   ]
  },
  {
   "cell_type": "code",
   "execution_count": 32,
   "metadata": {},
   "outputs": [
    {
     "data": {
      "text/plain": [
       "((154, 28), (29, 28), (6, 28), (6, 28), (4, 28), (0, 28))"
      ]
     },
     "execution_count": 32,
     "metadata": {},
     "output_type": "execute_result"
    }
   ],
   "source": [
    "# criar tabelas com amostragem de 10% de cada raça\n",
    "branca = campinas.loc[campinas.RACA == \"branca\"].sample(frac=0.10)\n",
    "parda = campinas.loc[campinas.RACA == \"parda\"].sample(frac=0.10)\n",
    "preta = campinas.loc[campinas.RACA == \"preta\"].sample(frac=0.10)\n",
    "amarela = campinas.loc[campinas.RACA == \"amarela\"].sample(frac=0.10)\n",
    "nao_declarado = campinas.loc[campinas.RACA == \"nao_declarado\"].sample(frac=0.10)\n",
    "indigena = campinas.loc[campinas.RACA == \"indigena\"].sample(frac=0.10)\n",
    "branca.shape, parda.shape, preta.shape, amarela.shape, nao_declarado.shape, indigena.shape"
   ]
  },
  {
   "cell_type": "code",
   "execution_count": 33,
   "metadata": {},
   "outputs": [
    {
     "data": {
      "text/plain": [
       "(199, 28)"
      ]
     },
     "execution_count": 33,
     "metadata": {},
     "output_type": "execute_result"
    }
   ],
   "source": [
    "# concatenar, juntar tabelas:\n",
    "amostra_estratificada = pandas.concat([branca, parda, preta, amarela, nao_declarado, indigena])\n",
    "amostra_estratificada.shape"
   ]
  },
  {
   "cell_type": "code",
   "execution_count": 34,
   "metadata": {},
   "outputs": [
    {
     "data": {
      "text/html": [
       "<div>\n",
       "<style scoped>\n",
       "    .dataframe tbody tr th:only-of-type {\n",
       "        vertical-align: middle;\n",
       "    }\n",
       "\n",
       "    .dataframe tbody tr th {\n",
       "        vertical-align: top;\n",
       "    }\n",
       "\n",
       "    .dataframe thead th {\n",
       "        text-align: right;\n",
       "    }\n",
       "</style>\n",
       "<table border=\"1\" class=\"dataframe\">\n",
       "  <thead>\n",
       "    <tr style=\"text-align: right;\">\n",
       "      <th></th>\n",
       "      <th>NU_INSCRICAO</th>\n",
       "      <th>NO_MUNICIPIO_RESIDENCIA</th>\n",
       "      <th>IDADE</th>\n",
       "      <th>SEXO</th>\n",
       "      <th>TP_ESTADO_CIVIL</th>\n",
       "      <th>RACA</th>\n",
       "      <th>TP_NACIONALIDADE</th>\n",
       "      <th>TP_ST_CONCLUSAO</th>\n",
       "      <th>ESCOLA</th>\n",
       "      <th>CO_ESCOLA</th>\n",
       "      <th>...</th>\n",
       "      <th>NOTA_MT</th>\n",
       "      <th>TP_LINGUA</th>\n",
       "      <th>TP_STATUS_REDACAO</th>\n",
       "      <th>COMP1</th>\n",
       "      <th>COMP2</th>\n",
       "      <th>COMP3</th>\n",
       "      <th>COMP4</th>\n",
       "      <th>COMP5</th>\n",
       "      <th>NOTA_REDACAO</th>\n",
       "      <th>INTERNET</th>\n",
       "    </tr>\n",
       "  </thead>\n",
       "  <tbody>\n",
       "    <tr>\n",
       "      <th>55348</th>\n",
       "      <td>1,90E+11</td>\n",
       "      <td>Campinas</td>\n",
       "      <td>16</td>\n",
       "      <td>M</td>\n",
       "      <td>1</td>\n",
       "      <td>branca</td>\n",
       "      <td>1</td>\n",
       "      <td>3</td>\n",
       "      <td>nï¿½o_respondeu</td>\n",
       "      <td>NaN</td>\n",
       "      <td>...</td>\n",
       "      <td>70.6</td>\n",
       "      <td>Inglï¿½s</td>\n",
       "      <td>1.0</td>\n",
       "      <td>160.0</td>\n",
       "      <td>120.0</td>\n",
       "      <td>160.0</td>\n",
       "      <td>160.0</td>\n",
       "      <td>160.0</td>\n",
       "      <td>760.0</td>\n",
       "      <td>Sim</td>\n",
       "    </tr>\n",
       "    <tr>\n",
       "      <th>51236</th>\n",
       "      <td>1,90E+11</td>\n",
       "      <td>Campinas</td>\n",
       "      <td>16</td>\n",
       "      <td>F</td>\n",
       "      <td>1</td>\n",
       "      <td>branca</td>\n",
       "      <td>1</td>\n",
       "      <td>3</td>\n",
       "      <td>nï¿½o_respondeu</td>\n",
       "      <td>NaN</td>\n",
       "      <td>...</td>\n",
       "      <td>598.1</td>\n",
       "      <td>Inglï¿½s</td>\n",
       "      <td>1.0</td>\n",
       "      <td>160.0</td>\n",
       "      <td>180.0</td>\n",
       "      <td>200.0</td>\n",
       "      <td>200.0</td>\n",
       "      <td>200.0</td>\n",
       "      <td>940.0</td>\n",
       "      <td>Sim</td>\n",
       "    </tr>\n",
       "    <tr>\n",
       "      <th>42263</th>\n",
       "      <td>1,90E+11</td>\n",
       "      <td>Campinas</td>\n",
       "      <td>17</td>\n",
       "      <td>F</td>\n",
       "      <td>1</td>\n",
       "      <td>branca</td>\n",
       "      <td>1</td>\n",
       "      <td>3</td>\n",
       "      <td>nï¿½o_respondeu</td>\n",
       "      <td>NaN</td>\n",
       "      <td>...</td>\n",
       "      <td>410.2</td>\n",
       "      <td>Inglï¿½s</td>\n",
       "      <td>3.0</td>\n",
       "      <td>0.0</td>\n",
       "      <td>0.0</td>\n",
       "      <td>0.0</td>\n",
       "      <td>0.0</td>\n",
       "      <td>0.0</td>\n",
       "      <td>0.0</td>\n",
       "      <td>Sim</td>\n",
       "    </tr>\n",
       "  </tbody>\n",
       "</table>\n",
       "<p>3 rows × 28 columns</p>\n",
       "</div>"
      ],
      "text/plain": [
       "      NU_INSCRICAO NO_MUNICIPIO_RESIDENCIA  IDADE SEXO  TP_ESTADO_CIVIL  \\\n",
       "55348     1,90E+11                Campinas     16    M                1   \n",
       "51236     1,90E+11                Campinas     16    F                1   \n",
       "42263     1,90E+11                Campinas     17    F                1   \n",
       "\n",
       "         RACA  TP_NACIONALIDADE  TP_ST_CONCLUSAO           ESCOLA  CO_ESCOLA  \\\n",
       "55348  branca                 1                3  nï¿½o_respondeu        NaN   \n",
       "51236  branca                 1                3  nï¿½o_respondeu        NaN   \n",
       "42263  branca                 1                3  nï¿½o_respondeu        NaN   \n",
       "\n",
       "       ...  NOTA_MT  TP_LINGUA  TP_STATUS_REDACAO  COMP1  COMP2  COMP3  COMP4  \\\n",
       "55348  ...     70.6   Inglï¿½s                1.0  160.0  120.0  160.0  160.0   \n",
       "51236  ...    598.1   Inglï¿½s                1.0  160.0  180.0  200.0  200.0   \n",
       "42263  ...    410.2   Inglï¿½s                3.0    0.0    0.0    0.0    0.0   \n",
       "\n",
       "       COMP5  NOTA_REDACAO INTERNET  \n",
       "55348  160.0         760.0      Sim  \n",
       "51236  200.0         940.0      Sim  \n",
       "42263    0.0           0.0      Sim  \n",
       "\n",
       "[3 rows x 28 columns]"
      ]
     },
     "execution_count": 34,
     "metadata": {},
     "output_type": "execute_result"
    }
   ],
   "source": [
    "amostra_estratificada.head(3)"
   ]
  },
  {
   "cell_type": "code",
   "execution_count": 50,
   "metadata": {},
   "outputs": [],
   "source": [
    "amostra_estratificada.to_csv(\"csv/07-amostra_estratificada.csv\", encoding=\"iso-8859-1\", index=False)\n"
   ]
  },
  {
   "cell_type": "code",
   "execution_count": 36,
   "metadata": {},
   "outputs": [
    {
     "data": {
      "text/plain": [
       "((199,),\n",
       " 33072    branca\n",
       " 25495    branca\n",
       " 77407    branca\n",
       " 8865      preta\n",
       " 54255     parda\n",
       " Name: RACA, dtype: object)"
      ]
     },
     "execution_count": 36,
     "metadata": {},
     "output_type": "execute_result"
    }
   ],
   "source": [
    "# OU\n",
    "# train_test_split\n",
    "# axis 1 representa coluna, axis 0 linha\n",
    "# vai extrair 10% dessa coluna\n",
    "# ERRO se não tiver mais q 1 elemento da mesma raça\n",
    "X_treino, X_teste, y_treino, amostra_estratificada_2 = train_test_split(campinas.drop('RACA',axis=1),campinas['RACA'], stratify=campinas['RACA'], test_size=0.10)\n",
    "amostra_estratificada_2.shape, amostra_estratificada_2.head()\n"
   ]
  },
  {
   "cell_type": "code",
   "execution_count": 37,
   "metadata": {},
   "outputs": [
    {
     "data": {
      "text/plain": [
       "branca           154\n",
       "parda             29\n",
       "preta              6\n",
       "amarela            6\n",
       "nao_declarado      4\n",
       "Name: RACA, dtype: int64"
      ]
     },
     "execution_count": 37,
     "metadata": {},
     "output_type": "execute_result"
    }
   ],
   "source": [
    "amostra_estratificada_2.value_counts()"
   ]
  },
  {
   "cell_type": "code",
   "execution_count": 41,
   "metadata": {},
   "outputs": [
    {
     "data": {
      "text/plain": [
       "Int64Index([33072, 25495, 77407,  8865, 54255, 78243, 49836, 60909, 23103,\n",
       "            66067,\n",
       "            ...\n",
       "            19720,  3962, 48225, 78206, 68878,  4391, 53501, 71505, 20391,\n",
       "            39512],\n",
       "           dtype='int64', length=199)"
      ]
     },
     "execution_count": 41,
     "metadata": {},
     "output_type": "execute_result"
    }
   ],
   "source": [
    "# visulaizar os índices\n",
    "amostra_estratificada_2.index"
   ]
  },
  {
   "cell_type": "code",
   "execution_count": 44,
   "metadata": {},
   "outputs": [],
   "source": [
    "# caputra os indices\n",
    "index_amostras = amostra_estratificada_2.index\n"
   ]
  },
  {
   "cell_type": "code",
   "execution_count": 48,
   "metadata": {},
   "outputs": [
    {
     "data": {
      "text/plain": [
       "(199, 28)"
      ]
     },
     "execution_count": 48,
     "metadata": {},
     "output_type": "execute_result"
    }
   ],
   "source": [
    "# através dos índeces pega todos os campos da planilha original\n",
    "amostra_estratificada_2_campos = campinas.loc[index_amostras, :]\n",
    "amostra_estratificada_2_campos.shape"
   ]
  },
  {
   "cell_type": "code",
   "execution_count": 49,
   "metadata": {},
   "outputs": [
    {
     "data": {
      "text/html": [
       "<div>\n",
       "<style scoped>\n",
       "    .dataframe tbody tr th:only-of-type {\n",
       "        vertical-align: middle;\n",
       "    }\n",
       "\n",
       "    .dataframe tbody tr th {\n",
       "        vertical-align: top;\n",
       "    }\n",
       "\n",
       "    .dataframe thead th {\n",
       "        text-align: right;\n",
       "    }\n",
       "</style>\n",
       "<table border=\"1\" class=\"dataframe\">\n",
       "  <thead>\n",
       "    <tr style=\"text-align: right;\">\n",
       "      <th></th>\n",
       "      <th>NU_INSCRICAO</th>\n",
       "      <th>NO_MUNICIPIO_RESIDENCIA</th>\n",
       "      <th>IDADE</th>\n",
       "      <th>SEXO</th>\n",
       "      <th>TP_ESTADO_CIVIL</th>\n",
       "      <th>RACA</th>\n",
       "      <th>TP_NACIONALIDADE</th>\n",
       "      <th>TP_ST_CONCLUSAO</th>\n",
       "      <th>ESCOLA</th>\n",
       "      <th>CO_ESCOLA</th>\n",
       "      <th>...</th>\n",
       "      <th>NOTA_MT</th>\n",
       "      <th>TP_LINGUA</th>\n",
       "      <th>TP_STATUS_REDACAO</th>\n",
       "      <th>COMP1</th>\n",
       "      <th>COMP2</th>\n",
       "      <th>COMP3</th>\n",
       "      <th>COMP4</th>\n",
       "      <th>COMP5</th>\n",
       "      <th>NOTA_REDACAO</th>\n",
       "      <th>INTERNET</th>\n",
       "    </tr>\n",
       "  </thead>\n",
       "  <tbody>\n",
       "    <tr>\n",
       "      <th>33072</th>\n",
       "      <td>1,90E+11</td>\n",
       "      <td>Campinas</td>\n",
       "      <td>17</td>\n",
       "      <td>F</td>\n",
       "      <td>1</td>\n",
       "      <td>branca</td>\n",
       "      <td>1</td>\n",
       "      <td>3</td>\n",
       "      <td>nï¿½o_respondeu</td>\n",
       "      <td>NaN</td>\n",
       "      <td>...</td>\n",
       "      <td>56.6</td>\n",
       "      <td>Inglï¿½s</td>\n",
       "      <td>1.0</td>\n",
       "      <td>140.0</td>\n",
       "      <td>120.0</td>\n",
       "      <td>120.0</td>\n",
       "      <td>140.0</td>\n",
       "      <td>120.0</td>\n",
       "      <td>640.0</td>\n",
       "      <td>Sim</td>\n",
       "    </tr>\n",
       "    <tr>\n",
       "      <th>25495</th>\n",
       "      <td>1,90E+11</td>\n",
       "      <td>Campinas</td>\n",
       "      <td>17</td>\n",
       "      <td>F</td>\n",
       "      <td>1</td>\n",
       "      <td>branca</td>\n",
       "      <td>1</td>\n",
       "      <td>3</td>\n",
       "      <td>nï¿½o_respondeu</td>\n",
       "      <td>NaN</td>\n",
       "      <td>...</td>\n",
       "      <td>557.5</td>\n",
       "      <td>Inglï¿½s</td>\n",
       "      <td>1.0</td>\n",
       "      <td>120.0</td>\n",
       "      <td>120.0</td>\n",
       "      <td>120.0</td>\n",
       "      <td>140.0</td>\n",
       "      <td>160.0</td>\n",
       "      <td>660.0</td>\n",
       "      <td>Sim</td>\n",
       "    </tr>\n",
       "  </tbody>\n",
       "</table>\n",
       "<p>2 rows × 28 columns</p>\n",
       "</div>"
      ],
      "text/plain": [
       "      NU_INSCRICAO NO_MUNICIPIO_RESIDENCIA  IDADE SEXO  TP_ESTADO_CIVIL  \\\n",
       "33072     1,90E+11                Campinas     17    F                1   \n",
       "25495     1,90E+11                Campinas     17    F                1   \n",
       "\n",
       "         RACA  TP_NACIONALIDADE  TP_ST_CONCLUSAO           ESCOLA  CO_ESCOLA  \\\n",
       "33072  branca                 1                3  nï¿½o_respondeu        NaN   \n",
       "25495  branca                 1                3  nï¿½o_respondeu        NaN   \n",
       "\n",
       "       ...  NOTA_MT  TP_LINGUA  TP_STATUS_REDACAO  COMP1  COMP2  COMP3  COMP4  \\\n",
       "33072  ...     56.6   Inglï¿½s                1.0  140.0  120.0  120.0  140.0   \n",
       "25495  ...    557.5   Inglï¿½s                1.0  120.0  120.0  120.0  140.0   \n",
       "\n",
       "       COMP5  NOTA_REDACAO INTERNET  \n",
       "33072  120.0         640.0      Sim  \n",
       "25495  160.0         660.0      Sim  \n",
       "\n",
       "[2 rows x 28 columns]"
      ]
     },
     "execution_count": 49,
     "metadata": {},
     "output_type": "execute_result"
    }
   ],
   "source": [
    "amostra_estratificada_2_campos.head(2)"
   ]
  },
  {
   "cell_type": "code",
   "execution_count": 51,
   "metadata": {},
   "outputs": [],
   "source": [
    "# Gera uma planilha igual a anterior (199L x 28C)\n",
    "amostra_estratificada_2_campos.to_csv(\"csv/07-amostra_estratificada_2_campos.csv\", encoding=\"iso-8859-1\", index=False)"
   ]
  }
 ],
 "metadata": {
  "interpreter": {
   "hash": "df0893f56f349688326838aaeea0de204df53a132722cbd565e54b24a8fec5f6"
  },
  "kernelspec": {
   "display_name": "Python 3",
   "language": "python",
   "name": "python3"
  },
  "language_info": {
   "codemirror_mode": {
    "name": "ipython",
    "version": 3
   },
   "file_extension": ".py",
   "mimetype": "text/x-python",
   "name": "python",
   "nbconvert_exporter": "python",
   "pygments_lexer": "ipython3",
   "version": "3.8.10"
  },
  "orig_nbformat": 4
 },
 "nbformat": 4,
 "nbformat_minor": 2
}
