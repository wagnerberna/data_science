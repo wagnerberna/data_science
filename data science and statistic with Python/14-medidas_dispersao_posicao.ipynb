{
 "cells": [
  {
   "cell_type": "code",
   "execution_count": null,
   "metadata": {},
   "outputs": [],
   "source": [
    "import pandas\n",
    "import numpy\n",
    "from plotly import express\n",
    "\n",
    "# POPULAÇÃO:\n",
    "data = pandas.read_csv(\"csv/04-classificados_tratado.csv\", sep=\",\", encoding=\"iso-8859-1\")\n",
    "data.shape"
   ]
  },
  {
   "cell_type": "code",
   "execution_count": null,
   "metadata": {},
   "outputs": [],
   "source": [
    "# AMOSTRAGEM: Cidade de Campinas\n",
    "campinas = data.loc[data.NO_MUNICIPIO_RESIDENCIA == \"Campinas\"]\n",
    "campinas.shape"
   ]
  },
  {
   "cell_type": "code",
   "execution_count": null,
   "metadata": {},
   "outputs": [],
   "source": [
    "# MEDIDAS DE DISPERSÃO"
   ]
  }
 ],
 "metadata": {
  "language_info": {
   "name": "python"
  },
  "orig_nbformat": 4
 },
 "nbformat": 4,
 "nbformat_minor": 2
}
