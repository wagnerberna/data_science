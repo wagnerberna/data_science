{
 "cells": [
  {
   "cell_type": "code",
   "execution_count": 1,
   "metadata": {},
   "outputs": [],
   "source": [
    "import numpy\n",
    "import pandas\n",
    "\n",
    "# POPULAÇÃO:\n",
    "data5 = pandas.read_csv(\"csv/04-classificados_tratado.csv\", sep=\",\", encoding=\"iso-8859-1\")"
   ]
  },
  {
   "cell_type": "code",
   "execution_count": 2,
   "metadata": {},
   "outputs": [
    {
     "data": {
      "text/html": [
       "<div>\n",
       "<style scoped>\n",
       "    .dataframe tbody tr th:only-of-type {\n",
       "        vertical-align: middle;\n",
       "    }\n",
       "\n",
       "    .dataframe tbody tr th {\n",
       "        vertical-align: top;\n",
       "    }\n",
       "\n",
       "    .dataframe thead th {\n",
       "        text-align: right;\n",
       "    }\n",
       "</style>\n",
       "<table border=\"1\" class=\"dataframe\">\n",
       "  <thead>\n",
       "    <tr style=\"text-align: right;\">\n",
       "      <th></th>\n",
       "      <th>NU_INSCRICAO</th>\n",
       "      <th>NO_MUNICIPIO_RESIDENCIA</th>\n",
       "      <th>IDADE</th>\n",
       "      <th>SEXO</th>\n",
       "      <th>TP_ESTADO_CIVIL</th>\n",
       "      <th>RACA</th>\n",
       "      <th>TP_NACIONALIDADE</th>\n",
       "      <th>TP_ST_CONCLUSAO</th>\n",
       "      <th>ESCOLA</th>\n",
       "      <th>CO_ESCOLA</th>\n",
       "      <th>...</th>\n",
       "      <th>NOTA_MT</th>\n",
       "      <th>TP_LINGUA</th>\n",
       "      <th>TP_STATUS_REDACAO</th>\n",
       "      <th>COMP1</th>\n",
       "      <th>COMP2</th>\n",
       "      <th>COMP3</th>\n",
       "      <th>COMP4</th>\n",
       "      <th>COMP5</th>\n",
       "      <th>NOTA_REDACAO</th>\n",
       "      <th>INTERNET</th>\n",
       "    </tr>\n",
       "  </thead>\n",
       "  <tbody>\n",
       "    <tr>\n",
       "      <th>0</th>\n",
       "      <td>1,90E+11</td>\n",
       "      <td>Santos</td>\n",
       "      <td>15</td>\n",
       "      <td>F</td>\n",
       "      <td>1</td>\n",
       "      <td>parda</td>\n",
       "      <td>1</td>\n",
       "      <td>3</td>\n",
       "      <td>não_respondeu</td>\n",
       "      <td>NaN</td>\n",
       "      <td>...</td>\n",
       "      <td>573.2</td>\n",
       "      <td>Inglês</td>\n",
       "      <td>1.0</td>\n",
       "      <td>140.0</td>\n",
       "      <td>120.0</td>\n",
       "      <td>120.0</td>\n",
       "      <td>100.0</td>\n",
       "      <td>80.0</td>\n",
       "      <td>560.0</td>\n",
       "      <td>Sim</td>\n",
       "    </tr>\n",
       "    <tr>\n",
       "      <th>1</th>\n",
       "      <td>1,90E+11</td>\n",
       "      <td>São Paulo</td>\n",
       "      <td>16</td>\n",
       "      <td>F</td>\n",
       "      <td>1</td>\n",
       "      <td>branca</td>\n",
       "      <td>1</td>\n",
       "      <td>3</td>\n",
       "      <td>não_respondeu</td>\n",
       "      <td>NaN</td>\n",
       "      <td>...</td>\n",
       "      <td>532.6</td>\n",
       "      <td>Inglês</td>\n",
       "      <td>1.0</td>\n",
       "      <td>120.0</td>\n",
       "      <td>120.0</td>\n",
       "      <td>120.0</td>\n",
       "      <td>100.0</td>\n",
       "      <td>80.0</td>\n",
       "      <td>540.0</td>\n",
       "      <td>Sim</td>\n",
       "    </tr>\n",
       "  </tbody>\n",
       "</table>\n",
       "<p>2 rows × 28 columns</p>\n",
       "</div>"
      ],
      "text/plain": [
       "  NU_INSCRICAO NO_MUNICIPIO_RESIDENCIA  IDADE SEXO  TP_ESTADO_CIVIL    RACA  \\\n",
       "0     1,90E+11                  Santos     15    F                1   parda   \n",
       "1     1,90E+11               São Paulo     16    F                1  branca   \n",
       "\n",
       "   TP_NACIONALIDADE  TP_ST_CONCLUSAO         ESCOLA  CO_ESCOLA  ...  NOTA_MT  \\\n",
       "0                 1                3  não_respondeu        NaN  ...    573.2   \n",
       "1                 1                3  não_respondeu        NaN  ...    532.6   \n",
       "\n",
       "   TP_LINGUA  TP_STATUS_REDACAO  COMP1  COMP2  COMP3  COMP4  COMP5  \\\n",
       "0     Inglês                1.0  140.0  120.0  120.0  100.0   80.0   \n",
       "1     Inglês                1.0  120.0  120.0  120.0  100.0   80.0   \n",
       "\n",
       "   NOTA_REDACAO INTERNET  \n",
       "0         560.0      Sim  \n",
       "1         540.0      Sim  \n",
       "\n",
       "[2 rows x 28 columns]"
      ]
     },
     "execution_count": 2,
     "metadata": {},
     "output_type": "execute_result"
    }
   ],
   "source": [
    "data5.head(2)"
   ]
  },
  {
   "cell_type": "code",
   "execution_count": 3,
   "metadata": {},
   "outputs": [
    {
     "data": {
      "text/plain": [
       "(81231, 28)"
      ]
     },
     "execution_count": 3,
     "metadata": {},
     "output_type": "execute_result"
    }
   ],
   "source": [
    "data5.shape"
   ]
  },
  {
   "cell_type": "code",
   "execution_count": 4,
   "metadata": {},
   "outputs": [
    {
     "data": {
      "text/plain": [
       "(1982, 28)"
      ]
     },
     "execution_count": 4,
     "metadata": {},
     "output_type": "execute_result"
    }
   ],
   "source": [
    "# AMOSTRAGEM: Cidade de Campinas\n",
    "campinas = data5.loc[data5.NO_MUNICIPIO_RESIDENCIA == \"Campinas\"]\n",
    "campinas.shape"
   ]
  },
  {
   "cell_type": "code",
   "execution_count": 5,
   "metadata": {},
   "outputs": [],
   "source": [
    "# AMOSTRAGEM SIMPLES: (Seleção aleatória sem filtro)\n",
    "# Criar uma \"semente\" de valor aleatório que será sempre igual\n",
    "# gera sempre a mesma resposta (ver index panda sempre o mesmo),\n",
    "# senão for definido cada vez q rodar gera uma amostragem diferente\n",
    "numpy.random.seed(1)\n",
    "\n"
   ]
  },
  {
   "cell_type": "code",
   "execution_count": 6,
   "metadata": {},
   "outputs": [
    {
     "data": {
      "text/plain": [
       "(595, 28)"
      ]
     },
     "execution_count": 6,
     "metadata": {},
     "output_type": "execute_result"
    }
   ],
   "source": [
    "# sample (aleatório)\n",
    "# frac (fração capturar uma amostragem aleatória de 30% da população)\n",
    "amostragem_simples_percentual = campinas.sample(frac=0.30)\n",
    "amostragem_simples_percentual.shape"
   ]
  },
  {
   "cell_type": "code",
   "execution_count": 7,
   "metadata": {},
   "outputs": [
    {
     "data": {
      "text/plain": [
       "(595, 28)"
      ]
     },
     "execution_count": 7,
     "metadata": {},
     "output_type": "execute_result"
    }
   ],
   "source": [
    "# frac (fração capturar uma amostragem aleatória numérica de xxx da população)\n",
    "amostragem_simples_numerica = campinas.sample(595)\n",
    "amostragem_simples_numerica.shape"
   ]
  },
  {
   "cell_type": "code",
   "execution_count": 8,
   "metadata": {},
   "outputs": [
    {
     "data": {
      "text/html": [
       "<div>\n",
       "<style scoped>\n",
       "    .dataframe tbody tr th:only-of-type {\n",
       "        vertical-align: middle;\n",
       "    }\n",
       "\n",
       "    .dataframe tbody tr th {\n",
       "        vertical-align: top;\n",
       "    }\n",
       "\n",
       "    .dataframe thead th {\n",
       "        text-align: right;\n",
       "    }\n",
       "</style>\n",
       "<table border=\"1\" class=\"dataframe\">\n",
       "  <thead>\n",
       "    <tr style=\"text-align: right;\">\n",
       "      <th></th>\n",
       "      <th>NU_INSCRICAO</th>\n",
       "      <th>NO_MUNICIPIO_RESIDENCIA</th>\n",
       "      <th>IDADE</th>\n",
       "      <th>SEXO</th>\n",
       "      <th>TP_ESTADO_CIVIL</th>\n",
       "      <th>RACA</th>\n",
       "      <th>TP_NACIONALIDADE</th>\n",
       "      <th>TP_ST_CONCLUSAO</th>\n",
       "      <th>ESCOLA</th>\n",
       "      <th>CO_ESCOLA</th>\n",
       "      <th>...</th>\n",
       "      <th>NOTA_MT</th>\n",
       "      <th>TP_LINGUA</th>\n",
       "      <th>TP_STATUS_REDACAO</th>\n",
       "      <th>COMP1</th>\n",
       "      <th>COMP2</th>\n",
       "      <th>COMP3</th>\n",
       "      <th>COMP4</th>\n",
       "      <th>COMP5</th>\n",
       "      <th>NOTA_REDACAO</th>\n",
       "      <th>INTERNET</th>\n",
       "    </tr>\n",
       "  </thead>\n",
       "  <tbody>\n",
       "    <tr>\n",
       "      <th>49162</th>\n",
       "      <td>1,90E+11</td>\n",
       "      <td>Campinas</td>\n",
       "      <td>16</td>\n",
       "      <td>F</td>\n",
       "      <td>1</td>\n",
       "      <td>branca</td>\n",
       "      <td>1</td>\n",
       "      <td>3</td>\n",
       "      <td>não_respondeu</td>\n",
       "      <td>NaN</td>\n",
       "      <td>...</td>\n",
       "      <td>63.9</td>\n",
       "      <td>Inglês</td>\n",
       "      <td>1.0</td>\n",
       "      <td>120.0</td>\n",
       "      <td>40.0</td>\n",
       "      <td>40.0</td>\n",
       "      <td>140.0</td>\n",
       "      <td>40.0</td>\n",
       "      <td>380.0</td>\n",
       "      <td>Sim</td>\n",
       "    </tr>\n",
       "    <tr>\n",
       "      <th>77182</th>\n",
       "      <td>1,90E+11</td>\n",
       "      <td>Campinas</td>\n",
       "      <td>16</td>\n",
       "      <td>F</td>\n",
       "      <td>0</td>\n",
       "      <td>branca</td>\n",
       "      <td>1</td>\n",
       "      <td>3</td>\n",
       "      <td>não_respondeu</td>\n",
       "      <td>NaN</td>\n",
       "      <td>...</td>\n",
       "      <td>448.7</td>\n",
       "      <td>Inglês</td>\n",
       "      <td>1.0</td>\n",
       "      <td>140.0</td>\n",
       "      <td>120.0</td>\n",
       "      <td>120.0</td>\n",
       "      <td>120.0</td>\n",
       "      <td>80.0</td>\n",
       "      <td>580.0</td>\n",
       "      <td>Sim</td>\n",
       "    </tr>\n",
       "    <tr>\n",
       "      <th>59770</th>\n",
       "      <td>1,90E+11</td>\n",
       "      <td>Campinas</td>\n",
       "      <td>17</td>\n",
       "      <td>M</td>\n",
       "      <td>1</td>\n",
       "      <td>branca</td>\n",
       "      <td>1</td>\n",
       "      <td>3</td>\n",
       "      <td>não_respondeu</td>\n",
       "      <td>NaN</td>\n",
       "      <td>...</td>\n",
       "      <td>701.1</td>\n",
       "      <td>Inglês</td>\n",
       "      <td>1.0</td>\n",
       "      <td>120.0</td>\n",
       "      <td>180.0</td>\n",
       "      <td>120.0</td>\n",
       "      <td>160.0</td>\n",
       "      <td>160.0</td>\n",
       "      <td>740.0</td>\n",
       "      <td>Sim</td>\n",
       "    </tr>\n",
       "  </tbody>\n",
       "</table>\n",
       "<p>3 rows × 28 columns</p>\n",
       "</div>"
      ],
      "text/plain": [
       "      NU_INSCRICAO NO_MUNICIPIO_RESIDENCIA  IDADE SEXO  TP_ESTADO_CIVIL  \\\n",
       "49162     1,90E+11                Campinas     16    F                1   \n",
       "77182     1,90E+11                Campinas     16    F                0   \n",
       "59770     1,90E+11                Campinas     17    M                1   \n",
       "\n",
       "         RACA  TP_NACIONALIDADE  TP_ST_CONCLUSAO         ESCOLA  CO_ESCOLA  \\\n",
       "49162  branca                 1                3  não_respondeu        NaN   \n",
       "77182  branca                 1                3  não_respondeu        NaN   \n",
       "59770  branca                 1                3  não_respondeu        NaN   \n",
       "\n",
       "       ...  NOTA_MT  TP_LINGUA  TP_STATUS_REDACAO  COMP1  COMP2  COMP3  COMP4  \\\n",
       "49162  ...     63.9     Inglês                1.0  120.0   40.0   40.0  140.0   \n",
       "77182  ...    448.7     Inglês                1.0  140.0  120.0  120.0  120.0   \n",
       "59770  ...    701.1     Inglês                1.0  120.0  180.0  120.0  160.0   \n",
       "\n",
       "       COMP5  NOTA_REDACAO INTERNET  \n",
       "49162   40.0         380.0      Sim  \n",
       "77182   80.0         580.0      Sim  \n",
       "59770  160.0         740.0      Sim  \n",
       "\n",
       "[3 rows x 28 columns]"
      ]
     },
     "execution_count": 8,
     "metadata": {},
     "output_type": "execute_result"
    }
   ],
   "source": [
    "amostragem_simples_numerica.head(3)"
   ]
  },
  {
   "cell_type": "code",
   "execution_count": 9,
   "metadata": {},
   "outputs": [],
   "source": [
    "# Alterar o número mantém as amostragens iguais em cima e muda as próximas variáveis\n",
    "numpy.random.seed(2)\n"
   ]
  },
  {
   "cell_type": "code",
   "execution_count": 10,
   "metadata": {},
   "outputs": [
    {
     "data": {
      "text/plain": [
       "array([0, 0, 0, ..., 0, 1, 0])"
      ]
     },
     "execution_count": 10,
     "metadata": {},
     "output_type": "execute_result"
    }
   ],
   "source": [
    "# OU\n",
    "# AMOSTRAGEM SIMPLES (outra forma mais complexa)\n",
    "# Cria um array com números 0 (80%) e 1(20%) com a quant. de linhas da matriz principal\n",
    "array_de_opcoes = [0,1]\n",
    "array_binario_aleatorio = numpy.random.choice(array_de_opcoes, size=1982, replace=True, p=[0.8, 0.2])\n",
    "# OU\n",
    "# array_binario_aleatorio = numpy.random.choice(array_de_opcoes=[0,1], size=13198, replace=True, p=[0.8, 0.2])\n",
    "array_binario_aleatorio\n"
   ]
  },
  {
   "cell_type": "code",
   "execution_count": 11,
   "metadata": {},
   "outputs": [
    {
     "data": {
      "text/plain": [
       "390"
      ]
     },
     "execution_count": 11,
     "metadata": {},
     "output_type": "execute_result"
    }
   ],
   "source": [
    "# 20% de 1\n",
    "len(array_binario_aleatorio[array_binario_aleatorio == 1])"
   ]
  },
  {
   "cell_type": "code",
   "execution_count": 12,
   "metadata": {},
   "outputs": [
    {
     "data": {
      "text/plain": [
       "(390, 28)"
      ]
     },
     "execution_count": 12,
     "metadata": {},
     "output_type": "execute_result"
    }
   ],
   "source": [
    "# Coleta a amostragem conforme \n",
    "amostra_campinas_binario_1 = campinas.loc[array_binario_aleatorio == 1]\n",
    "amostra_campinas_binario_1.shape"
   ]
  },
  {
   "cell_type": "code",
   "execution_count": 13,
   "metadata": {},
   "outputs": [
    {
     "data": {
      "text/html": [
       "<div>\n",
       "<style scoped>\n",
       "    .dataframe tbody tr th:only-of-type {\n",
       "        vertical-align: middle;\n",
       "    }\n",
       "\n",
       "    .dataframe tbody tr th {\n",
       "        vertical-align: top;\n",
       "    }\n",
       "\n",
       "    .dataframe thead th {\n",
       "        text-align: right;\n",
       "    }\n",
       "</style>\n",
       "<table border=\"1\" class=\"dataframe\">\n",
       "  <thead>\n",
       "    <tr style=\"text-align: right;\">\n",
       "      <th></th>\n",
       "      <th>NU_INSCRICAO</th>\n",
       "      <th>NO_MUNICIPIO_RESIDENCIA</th>\n",
       "      <th>IDADE</th>\n",
       "      <th>SEXO</th>\n",
       "      <th>TP_ESTADO_CIVIL</th>\n",
       "      <th>RACA</th>\n",
       "      <th>TP_NACIONALIDADE</th>\n",
       "      <th>TP_ST_CONCLUSAO</th>\n",
       "      <th>ESCOLA</th>\n",
       "      <th>CO_ESCOLA</th>\n",
       "      <th>...</th>\n",
       "      <th>NOTA_MT</th>\n",
       "      <th>TP_LINGUA</th>\n",
       "      <th>TP_STATUS_REDACAO</th>\n",
       "      <th>COMP1</th>\n",
       "      <th>COMP2</th>\n",
       "      <th>COMP3</th>\n",
       "      <th>COMP4</th>\n",
       "      <th>COMP5</th>\n",
       "      <th>NOTA_REDACAO</th>\n",
       "      <th>INTERNET</th>\n",
       "    </tr>\n",
       "  </thead>\n",
       "  <tbody>\n",
       "    <tr>\n",
       "      <th>890</th>\n",
       "      <td>1,90E+11</td>\n",
       "      <td>Campinas</td>\n",
       "      <td>15</td>\n",
       "      <td>F</td>\n",
       "      <td>1</td>\n",
       "      <td>branca</td>\n",
       "      <td>1</td>\n",
       "      <td>3</td>\n",
       "      <td>não_respondeu</td>\n",
       "      <td>NaN</td>\n",
       "      <td>...</td>\n",
       "      <td>541.8</td>\n",
       "      <td>Inglês</td>\n",
       "      <td>1.0</td>\n",
       "      <td>180.0</td>\n",
       "      <td>140.0</td>\n",
       "      <td>120.0</td>\n",
       "      <td>120.0</td>\n",
       "      <td>100.0</td>\n",
       "      <td>660.0</td>\n",
       "      <td>Sim</td>\n",
       "    </tr>\n",
       "    <tr>\n",
       "      <th>940</th>\n",
       "      <td>1,90E+11</td>\n",
       "      <td>Campinas</td>\n",
       "      <td>16</td>\n",
       "      <td>F</td>\n",
       "      <td>1</td>\n",
       "      <td>branca</td>\n",
       "      <td>1</td>\n",
       "      <td>3</td>\n",
       "      <td>não_respondeu</td>\n",
       "      <td>NaN</td>\n",
       "      <td>...</td>\n",
       "      <td>501.9</td>\n",
       "      <td>Inglês</td>\n",
       "      <td>1.0</td>\n",
       "      <td>140.0</td>\n",
       "      <td>120.0</td>\n",
       "      <td>120.0</td>\n",
       "      <td>160.0</td>\n",
       "      <td>160.0</td>\n",
       "      <td>700.0</td>\n",
       "      <td>Sim</td>\n",
       "    </tr>\n",
       "  </tbody>\n",
       "</table>\n",
       "<p>2 rows × 28 columns</p>\n",
       "</div>"
      ],
      "text/plain": [
       "    NU_INSCRICAO NO_MUNICIPIO_RESIDENCIA  IDADE SEXO  TP_ESTADO_CIVIL    RACA  \\\n",
       "890     1,90E+11                Campinas     15    F                1  branca   \n",
       "940     1,90E+11                Campinas     16    F                1  branca   \n",
       "\n",
       "     TP_NACIONALIDADE  TP_ST_CONCLUSAO         ESCOLA  CO_ESCOLA  ...  \\\n",
       "890                 1                3  não_respondeu        NaN  ...   \n",
       "940                 1                3  não_respondeu        NaN  ...   \n",
       "\n",
       "     NOTA_MT  TP_LINGUA  TP_STATUS_REDACAO  COMP1  COMP2  COMP3  COMP4  COMP5  \\\n",
       "890    541.8     Inglês                1.0  180.0  140.0  120.0  120.0  100.0   \n",
       "940    501.9     Inglês                1.0  140.0  120.0  120.0  160.0  160.0   \n",
       "\n",
       "     NOTA_REDACAO INTERNET  \n",
       "890         660.0      Sim  \n",
       "940         700.0      Sim  \n",
       "\n",
       "[2 rows x 28 columns]"
      ]
     },
     "execution_count": 13,
     "metadata": {},
     "output_type": "execute_result"
    }
   ],
   "source": [
    "amostra_campinas_binario_1.head(2)"
   ]
  },
  {
   "cell_type": "code",
   "execution_count": 22,
   "metadata": {},
   "outputs": [],
   "source": [
    "amostragem_simples_percentual.to_csv(\"csv/05-amostragem_simples_percentual.csv\", encoding=\"iso-8859-1\", index=False)\n",
    "amostragem_simples_numerica.to_csv(\"csv/05-amostragem_simples_numerica.csv\", encoding=\"iso-8859-1\", index=False)"
   ]
  }
 ],
 "metadata": {
  "interpreter": {
   "hash": "df0893f56f349688326838aaeea0de204df53a132722cbd565e54b24a8fec5f6"
  },
  "kernelspec": {
   "display_name": "Python 3",
   "language": "python",
   "name": "python3"
  },
  "language_info": {
   "codemirror_mode": {
    "name": "ipython",
    "version": 3
   },
   "file_extension": ".py",
   "mimetype": "text/x-python",
   "name": "python",
   "nbconvert_exporter": "python",
   "pygments_lexer": "ipython3",
   "version": "3.8.10"
  },
  "orig_nbformat": 4
 },
 "nbformat": 4,
 "nbformat_minor": 2
}
