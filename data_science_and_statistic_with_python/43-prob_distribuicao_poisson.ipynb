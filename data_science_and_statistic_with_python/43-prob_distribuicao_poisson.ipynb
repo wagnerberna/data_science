{
 "cells": [
  {
   "cell_type": "code",
   "execution_count": 1,
   "metadata": {},
   "outputs": [],
   "source": [
    "import pandas as pd\n",
    "import numpy as np\n",
    "from scipy.stats import binom\n",
    "from scipy.stats import geom\n",
    "from scipy.stats import poisson"
   ]
  },
  {
   "cell_type": "code",
   "execution_count": null,
   "metadata": {},
   "outputs": [],
   "source": [
    "# Distribuição POISSON\n",
    "# Prob. de vezes de um evento ocorrer unum determinado intervalo\n",
    "# Prob. do evento ocorrer é a mesma para cada intervalo\n",
    "# Núm. de ocorrências nos intervalos são independentes"
   ]
  },
  {
   "cell_type": "code",
   "execution_count": 3,
   "metadata": {},
   "outputs": [
    {
     "data": {
      "text/plain": [
       "2.5038944623030353"
      ]
     },
     "execution_count": 3,
     "metadata": {},
     "output_type": "execute_result"
    }
   ],
   "source": [
    "# Num local de prova, 100 vestibulandos, normalmente, terminaram a prova em 2 horas (tempo mínimo).\n",
    "# Probabilidade de exatamente 90 vestibulandos terminarem a prova em 2h.\n",
    "\n",
    "# poisson.pmf(x, m) x é a quantidade de ocorrências EM ESTUDO e m é a taxa de ocorrências.\n",
    "\n",
    "result_1 = poisson.pmf(90,100)\n",
    "result_1 * 100"
   ]
  }
 ],
 "metadata": {
  "kernelspec": {
   "display_name": "Python 3",
   "language": "python",
   "name": "python3"
  },
  "language_info": {
   "codemirror_mode": {
    "name": "ipython",
    "version": 3
   },
   "file_extension": ".py",
   "mimetype": "text/x-python",
   "name": "python",
   "nbconvert_exporter": "python",
   "pygments_lexer": "ipython3",
   "version": "3.8.5"
  },
  "orig_nbformat": 4
 },
 "nbformat": 4,
 "nbformat_minor": 2
}
