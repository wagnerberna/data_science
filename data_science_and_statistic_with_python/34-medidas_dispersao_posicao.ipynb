{
 "cells": [
  {
   "cell_type": "code",
   "execution_count": 3,
   "metadata": {},
   "outputs": [
    {
     "data": {
      "text/plain": [
       "(81231, 28)"
      ]
     },
     "execution_count": 3,
     "metadata": {},
     "output_type": "execute_result"
    }
   ],
   "source": [
    "import pandas as pd\n",
    "import numpy\n",
    "from plotly import express\n",
    "\n",
    "# POPULAÇÃO:\n",
    "data = pd.read_csv(\"csv/04-classificados_tratado.csv\", sep=\",\", encoding=\"iso-8859-1\")\n",
    "data.shape"
   ]
  },
  {
   "cell_type": "code",
   "execution_count": 4,
   "metadata": {},
   "outputs": [
    {
     "data": {
      "text/plain": [
       "(1982, 28)"
      ]
     },
     "execution_count": 4,
     "metadata": {},
     "output_type": "execute_result"
    }
   ],
   "source": [
    "# AMOSTRAGEM: Cidade de Campinas\n",
    "campinas = data.loc[data.NO_MUNICIPIO_RESIDENCIA == \"Campinas\"]\n",
    "campinas.shape"
   ]
  },
  {
   "cell_type": "code",
   "execution_count": 12,
   "metadata": {},
   "outputs": [
    {
     "data": {
      "text/plain": [
       "1.7852409055777334"
      ]
     },
     "execution_count": 12,
     "metadata": {},
     "output_type": "execute_result"
    }
   ],
   "source": [
    "# MEDIDAS DE DISPERSÃO\n",
    "# VARIÂNCIA:\n",
    "data[\"IDADE\"].var()"
   ]
  },
  {
   "cell_type": "code",
   "execution_count": 13,
   "metadata": {},
   "outputs": [
    {
     "data": {
      "text/plain": [
       "1.3361290751936108"
      ]
     },
     "execution_count": 13,
     "metadata": {},
     "output_type": "execute_result"
    }
   ],
   "source": [
    "# DESVIO PADRÃO:\n",
    "data[\"IDADE\"].std()"
   ]
  },
  {
   "cell_type": "code",
   "execution_count": 15,
   "metadata": {},
   "outputs": [
    {
     "data": {
      "text/plain": [
       "0.5466461063595376"
      ]
     },
     "execution_count": 15,
     "metadata": {},
     "output_type": "execute_result"
    }
   ],
   "source": [
    "# DESVIO ABSOLUTO:\n",
    "data[\"IDADE\"].mad()"
   ]
  },
  {
   "cell_type": "code",
   "execution_count": 9,
   "metadata": {},
   "outputs": [
    {
     "data": {
      "text/plain": [
       "count    81231.000000\n",
       "mean        16.206768\n",
       "std          1.336129\n",
       "min         13.000000\n",
       "25%         16.000000\n",
       "50%         16.000000\n",
       "75%         17.000000\n",
       "max         69.000000\n",
       "Name: IDADE, dtype: float64"
      ]
     },
     "execution_count": 9,
     "metadata": {},
     "output_type": "execute_result"
    }
   ],
   "source": [
    "data[\"IDADE\"].describe()"
   ]
  },
  {
   "cell_type": "code",
   "execution_count": 16,
   "metadata": {},
   "outputs": [
    {
     "data": {
      "text/plain": [
       "(186.15, 154.6)"
      ]
     },
     "execution_count": 16,
     "metadata": {},
     "output_type": "execute_result"
    }
   ],
   "source": [
    "# Notas de matemática estão mais dispersas que as notas de redação.\n",
    "round(data.NOTA_MT.std(), 2) ,round(data.NOTA_REDACAO.std(), 2)"
   ]
  },
  {
   "cell_type": "code",
   "execution_count": 19,
   "metadata": {},
   "outputs": [
    {
     "data": {
      "text/html": [
       "<div>\n",
       "<style scoped>\n",
       "    .dataframe tbody tr th:only-of-type {\n",
       "        vertical-align: middle;\n",
       "    }\n",
       "\n",
       "    .dataframe tbody tr th {\n",
       "        vertical-align: top;\n",
       "    }\n",
       "\n",
       "    .dataframe thead th {\n",
       "        text-align: right;\n",
       "    }\n",
       "</style>\n",
       "<table border=\"1\" class=\"dataframe\">\n",
       "  <thead>\n",
       "    <tr style=\"text-align: right;\">\n",
       "      <th></th>\n",
       "      <th>NOTA_REDACAO</th>\n",
       "      <th>NOTA_CN</th>\n",
       "      <th>NOTA_MT</th>\n",
       "      <th>NOTA_LC</th>\n",
       "      <th>NOTA_CH</th>\n",
       "    </tr>\n",
       "  </thead>\n",
       "  <tbody>\n",
       "    <tr>\n",
       "      <th>count</th>\n",
       "      <td>81231.000000</td>\n",
       "      <td>81231.000000</td>\n",
       "      <td>81231.000000</td>\n",
       "      <td>81231.000000</td>\n",
       "      <td>81231.000000</td>\n",
       "    </tr>\n",
       "    <tr>\n",
       "      <th>mean</th>\n",
       "      <td>614.496190</td>\n",
       "      <td>466.780842</td>\n",
       "      <td>528.899041</td>\n",
       "      <td>501.430028</td>\n",
       "      <td>490.863711</td>\n",
       "    </tr>\n",
       "    <tr>\n",
       "      <th>std</th>\n",
       "      <td>154.600228</td>\n",
       "      <td>153.745706</td>\n",
       "      <td>186.145304</td>\n",
       "      <td>156.035444</td>\n",
       "      <td>161.576721</td>\n",
       "    </tr>\n",
       "    <tr>\n",
       "      <th>min</th>\n",
       "      <td>0.000000</td>\n",
       "      <td>0.000000</td>\n",
       "      <td>0.000000</td>\n",
       "      <td>0.000000</td>\n",
       "      <td>0.000000</td>\n",
       "    </tr>\n",
       "    <tr>\n",
       "      <th>25%</th>\n",
       "      <td>540.000000</td>\n",
       "      <td>435.900000</td>\n",
       "      <td>465.500000</td>\n",
       "      <td>508.100000</td>\n",
       "      <td>469.400000</td>\n",
       "    </tr>\n",
       "    <tr>\n",
       "      <th>50%</th>\n",
       "      <td>620.000000</td>\n",
       "      <td>510.800000</td>\n",
       "      <td>567.500000</td>\n",
       "      <td>552.100000</td>\n",
       "      <td>539.900000</td>\n",
       "    </tr>\n",
       "    <tr>\n",
       "      <th>75%</th>\n",
       "      <td>700.000000</td>\n",
       "      <td>561.400000</td>\n",
       "      <td>651.350000</td>\n",
       "      <td>581.300000</td>\n",
       "      <td>585.600000</td>\n",
       "    </tr>\n",
       "    <tr>\n",
       "      <th>max</th>\n",
       "      <td>980.000000</td>\n",
       "      <td>834.300000</td>\n",
       "      <td>984.200000</td>\n",
       "      <td>801.700000</td>\n",
       "      <td>784.500000</td>\n",
       "    </tr>\n",
       "  </tbody>\n",
       "</table>\n",
       "</div>"
      ],
      "text/plain": [
       "       NOTA_REDACAO       NOTA_CN       NOTA_MT       NOTA_LC       NOTA_CH\n",
       "count  81231.000000  81231.000000  81231.000000  81231.000000  81231.000000\n",
       "mean     614.496190    466.780842    528.899041    501.430028    490.863711\n",
       "std      154.600228    153.745706    186.145304    156.035444    161.576721\n",
       "min        0.000000      0.000000      0.000000      0.000000      0.000000\n",
       "25%      540.000000    435.900000    465.500000    508.100000    469.400000\n",
       "50%      620.000000    510.800000    567.500000    552.100000    539.900000\n",
       "75%      700.000000    561.400000    651.350000    581.300000    585.600000\n",
       "max      980.000000    834.300000    984.200000    801.700000    784.500000"
      ]
     },
     "execution_count": 19,
     "metadata": {},
     "output_type": "execute_result"
    }
   ],
   "source": [
    "# Comparar apenas as colunas de notas\n",
    "colunas_notas = [\"NOTA_REDACAO\", \"NOTA_CN\", \"NOTA_MT\", \"NOTA_LC\", \"NOTA_CH\"]\n",
    "data[colunas_notas].describe()"
   ]
  }
 ],
 "metadata": {
  "kernelspec": {
   "display_name": "Python 3",
   "language": "python",
   "name": "python3"
  },
  "language_info": {
   "codemirror_mode": {
    "name": "ipython",
    "version": 3
   },
   "file_extension": ".py",
   "mimetype": "text/x-python",
   "name": "python",
   "nbconvert_exporter": "python",
   "pygments_lexer": "ipython3",
   "version": "3.8.5"
  },
  "orig_nbformat": 4
 },
 "nbformat": 4,
 "nbformat_minor": 2
}
