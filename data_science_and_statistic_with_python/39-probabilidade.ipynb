{
 "cells": [
  {
   "cell_type": "code",
   "execution_count": 9,
   "metadata": {},
   "outputs": [
    {
     "data": {
      "text/plain": [
       "(81231, 28)"
      ]
     },
     "execution_count": 9,
     "metadata": {},
     "output_type": "execute_result"
    }
   ],
   "source": [
    "import pandas as pd\n",
    "\n",
    "# POPULAÇÃO:\n",
    "dataset_sp = pd.read_csv(\"csv/04-classificados_tratado.csv\", sep=\",\", encoding=\"iso-8859-1\")\n",
    "dataset_sp.shape"
   ]
  },
  {
   "cell_type": "code",
   "execution_count": 10,
   "metadata": {},
   "outputs": [
    {
     "data": {
      "text/plain": [
       "(701, 28)"
      ]
     },
     "execution_count": 10,
     "metadata": {},
     "output_type": "execute_result"
    }
   ],
   "source": [
    "dataset_bauru = dataset_sp.loc[dataset_sp.NO_MUNICIPIO_RESIDENCIA == \"Bauru\"]\n",
    "dataset_bauru.shape"
   ]
  },
  {
   "cell_type": "code",
   "execution_count": 32,
   "metadata": {},
   "outputs": [
    {
     "data": {
      "text/plain": [
       "(1868, 28)"
      ]
     },
     "execution_count": 32,
     "metadata": {},
     "output_type": "execute_result"
    }
   ],
   "source": [
    "dataset_guarulhos = dataset_sp.loc[dataset_sp.NO_MUNICIPIO_RESIDENCIA == \"Guarulhos\"]\n",
    "dataset_guarulhos.shape"
   ]
  },
  {
   "cell_type": "code",
   "execution_count": 35,
   "metadata": {},
   "outputs": [
    {
     "name": "stdout",
     "output_type": "stream",
     "text": [
      "0.86%\n"
     ]
    },
    {
     "data": {
      "text/plain": [
       "0.8629710332262314"
      ]
     },
     "execution_count": 35,
     "metadata": {},
     "output_type": "execute_result"
    }
   ],
   "source": [
    "# FN Probabilidade de Ocorrer um Evento\n",
    "# events_possible = número de Eventos possíveis\n",
    "#  sample_space =  Espaço Amostral de todas possibilidades\n",
    "# :.2f número de casas após a vírgula\n",
    "def probability_event(events_possible, sample_space):\n",
    "    result = (events_possible / sample_space)*100\n",
    "    print(\"{:.2f}%\".format(result))\n",
    "    return result\n",
    "\n",
    "# prob. de sortear um aluno de Bauru\n",
    "probability_event(len(dataset_bauru), len(dataset_sp))"
   ]
  },
  {
   "cell_type": "code",
   "execution_count": 36,
   "metadata": {},
   "outputs": [
    {
     "name": "stdout",
     "output_type": "stream",
     "text": [
      "2.30%\n"
     ]
    },
    {
     "data": {
      "text/plain": [
       "2.2996146791249648"
      ]
     },
     "execution_count": 36,
     "metadata": {},
     "output_type": "execute_result"
    }
   ],
   "source": [
    "# prob. de sortear um aluno de Guarulhos\n",
    "probability_event(len(dataset_guarulhos), len(dataset_sp))"
   ]
  },
  {
   "cell_type": "code",
   "execution_count": 37,
   "metadata": {},
   "outputs": [
    {
     "name": "stdout",
     "output_type": "stream",
     "text": [
      "99.14%\n"
     ]
    },
    {
     "data": {
      "text/plain": [
       "99.13702896677377"
      ]
     },
     "execution_count": 37,
     "metadata": {},
     "output_type": "execute_result"
    }
   ],
   "source": [
    "# FN Probabilidade de NÃO Ocorrer um Evento\n",
    "# events_possible = número de Eventos possíveis\n",
    "#  sample_space =  Espaço Amostral de todas possibilidades\n",
    "# :.2f número de casas após a vírgula\n",
    "def probability_of_not_event(events_possible, sample_space):\n",
    "    result =  (1-(events_possible / sample_space))*100\n",
    "    print(\"{:.2f}%\".format(result))\n",
    "    return result\n",
    "\n",
    "# prob. de NÃO sortear um aluno de Bauru\n",
    "probability_of_not_event(len(dataset_bauru), len(dataset_sp))"
   ]
  },
  {
   "cell_type": "code",
   "execution_count": null,
   "metadata": {},
   "outputs": [],
   "source": [
    "# prob. de NÃO sortear um aluno de Guarulhos\n",
    "probability_event(len(dataset_guarulhos), len(dataset_sp))"
   ]
  }
 ],
 "metadata": {
  "kernelspec": {
   "display_name": "Python 3",
   "language": "python",
   "name": "python3"
  },
  "language_info": {
   "codemirror_mode": {
    "name": "ipython",
    "version": 3
   },
   "file_extension": ".py",
   "mimetype": "text/x-python",
   "name": "python",
   "nbconvert_exporter": "python",
   "pygments_lexer": "ipython3",
   "version": "3.8.5"
  },
  "orig_nbformat": 4
 },
 "nbformat": 4,
 "nbformat_minor": 2
}
