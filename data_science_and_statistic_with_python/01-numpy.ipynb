{
 "cells": [
  {
   "cell_type": "code",
   "execution_count": 1,
   "metadata": {},
   "outputs": [],
   "source": [
    "import numpy\n",
    "\n",
    "vetor = numpy.array([1, -3, 4.2, 5])"
   ]
  },
  {
   "cell_type": "code",
   "execution_count": 2,
   "metadata": {},
   "outputs": [
    {
     "data": {
      "text/plain": [
       "numpy.ndarray"
      ]
     },
     "execution_count": 2,
     "metadata": {},
     "output_type": "execute_result"
    }
   ],
   "source": [
    "type(vetor)"
   ]
  },
  {
   "cell_type": "code",
   "execution_count": 4,
   "metadata": {},
   "outputs": [
    {
     "name": "stdout",
     "output_type": "stream",
     "text": [
      "[ 1.  -3.   4.2  5. ]\n",
      "1.0\n",
      "-3.0\n"
     ]
    }
   ],
   "source": [
    "print(vetor)\n",
    "print(vetor[0])\n",
    "print(vetor[1])"
   ]
  },
  {
   "cell_type": "code",
   "execution_count": 5,
   "metadata": {},
   "outputs": [
    {
     "name": "stdout",
     "output_type": "stream",
     "text": [
      "<class 'numpy.ndarray'>\n",
      "[[1. 1. 1.]\n",
      " [1. 1. 1.]]\n"
     ]
    }
   ],
   "source": [
    "# criar uma matriz no formato array com 2 linhas e 3 colunas\n",
    "# matriz de 2L x 3C\n",
    "#  .ones(preenche com o número 1)\n",
    "matriz = numpy.ones((2, 3))\n",
    "print(type(matriz))\n",
    "print(matriz)"
   ]
  },
  {
   "cell_type": "code",
   "execution_count": 6,
   "metadata": {},
   "outputs": [
    {
     "name": "stdout",
     "output_type": "stream",
     "text": [
      "[[ 2  0  0  0  0]\n",
      " [ 0  4  0  0  0]\n",
      " [ 0  0  6  0  0]\n",
      " [ 0  0  0  8  0]\n",
      " [ 0  0  0  0 10]]\n"
     ]
    }
   ],
   "source": [
    "# valores do array preenchem de uma diagonal a outra da matriz\n",
    "# matriz 5l X 5c\n",
    "matriz_diagonal = numpy.diag((2, 4, 6, 8, 10))\n",
    "print(matriz_diagonal)"
   ]
  }
 ],
 "metadata": {
  "interpreter": {
   "hash": "df0893f56f349688326838aaeea0de204df53a132722cbd565e54b24a8fec5f6"
  },
  "kernelspec": {
   "display_name": "Python 3",
   "language": "python",
   "name": "python3"
  },
  "language_info": {
   "codemirror_mode": {
    "name": "ipython",
    "version": 3
   },
   "file_extension": ".py",
   "mimetype": "text/x-python",
   "name": "python",
   "nbconvert_exporter": "python",
   "pygments_lexer": "ipython3",
   "version": "3.8.10"
  },
  "orig_nbformat": 4
 },
 "nbformat": 4,
 "nbformat_minor": 2
}
