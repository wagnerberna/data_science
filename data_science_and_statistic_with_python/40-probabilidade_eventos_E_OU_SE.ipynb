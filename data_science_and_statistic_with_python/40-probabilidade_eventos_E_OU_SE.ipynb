{
 "cells": [
  {
   "cell_type": "code",
   "execution_count": 1,
   "metadata": {},
   "outputs": [
    {
     "data": {
      "text/plain": [
       "(81231, 28)"
      ]
     },
     "execution_count": 1,
     "metadata": {},
     "output_type": "execute_result"
    }
   ],
   "source": [
    "import pandas as pd\n",
    "\n",
    "# POPULAÇÃO:\n",
    "dataset_sp = pd.read_csv(\"csv/04-classificados_tratado.csv\", sep=\",\", encoding=\"iso-8859-1\")\n",
    "dataset_sp.shape"
   ]
  },
  {
   "cell_type": "code",
   "execution_count": 2,
   "metadata": {},
   "outputs": [
    {
     "data": {
      "text/plain": [
       "(701, 28)"
      ]
     },
     "execution_count": 2,
     "metadata": {},
     "output_type": "execute_result"
    }
   ],
   "source": [
    "dataset_bauru = dataset_sp.loc[dataset_sp.NO_MUNICIPIO_RESIDENCIA == \"Bauru\"]\n",
    "dataset_bauru.shape"
   ]
  },
  {
   "cell_type": "code",
   "execution_count": 3,
   "metadata": {},
   "outputs": [
    {
     "data": {
      "text/plain": [
       "(1868, 28)"
      ]
     },
     "execution_count": 3,
     "metadata": {},
     "output_type": "execute_result"
    }
   ],
   "source": [
    "dataset_guarulhos = dataset_sp.loc[dataset_sp.NO_MUNICIPIO_RESIDENCIA == \"Guarulhos\"]\n",
    "dataset_guarulhos.shape"
   ]
  },
  {
   "cell_type": "code",
   "execution_count": 10,
   "metadata": {},
   "outputs": [
    {
     "name": "stdout",
     "output_type": "stream",
     "text": [
      "3.16%\n"
     ]
    },
    {
     "data": {
      "text/plain": [
       "3.162585712351196"
      ]
     },
     "execution_count": 10,
     "metadata": {},
     "output_type": "execute_result"
    }
   ],
   "source": [
    "# FN Probabilidade União de Eventos AUB - OU (Mutuamente Exclusivos)\n",
    "# Soma prob. dos eventos\n",
    "# events_possible = número de Eventos possíveis dentro do espaço amostral\n",
    "#  sample_space =  Espaço Amostral de todas possibilidades\n",
    "def probability_union_event(events_possible_a, events_possible_b, sample_space):\n",
    "    events_possible_a = events_possible_a / sample_space\n",
    "    events_possible_b = events_possible_b / sample_space\n",
    "    result =  (events_possible_a + events_possible_b)*100\n",
    "    print(\"{:.2f}%\".format(result))\n",
    "    return result\n",
    "\n",
    "# prob. de sortear um aluno de Bauru ou Guarulhos\n",
    "probability_union_event(len(dataset_bauru), len(dataset_guarulhos), len(dataset_sp))"
   ]
  },
  {
   "cell_type": "code",
   "execution_count": 12,
   "metadata": {},
   "outputs": [
    {
     "name": "stdout",
     "output_type": "stream",
     "text": [
      "2.79%\n"
     ]
    },
    {
     "data": {
      "text/plain": [
       "2.7932685797294137"
      ]
     },
     "execution_count": 12,
     "metadata": {},
     "output_type": "execute_result"
    }
   ],
   "source": [
    "# FN Probabilidade União de Eventos AUB - OU (Mutuamente Exclusivos)\n",
    "# Considerando a Hipótese que OU X pessoas participaram de ambos eventos\n",
    "# Nessa caso soma prob. dos eventos e diminui a prob. dos mesmos juntos\n",
    "# events_possible = número de Eventos possíveis dentro do espaço amostral\n",
    "#  sample_space =  Espaço Amostral de todas possibilidades\n",
    "def probability_union_event2(events_possible_a, events_possible_b, sample_space, both_events):\n",
    "    events_possible_a = events_possible_a / sample_space\n",
    "    events_possible_b = events_possible_b / sample_space\n",
    "    both_events_possible = both_events / sample_space\n",
    "\n",
    "    result =  (events_possible_a + events_possible_b - both_events_possible)*100\n",
    "    print(\"{:.2f}%\".format(result))\n",
    "    return result\n",
    "\n",
    "# prob. de sortear um aluno q fez vestibular em Bauru OU Guarulhos, OU nos dois.\n",
    "both_events = 300\n",
    "probability_union_event2(len(dataset_bauru), len(dataset_guarulhos), len(dataset_sp), both_events)\n"
   ]
  },
  {
   "cell_type": "code",
   "execution_count": 14,
   "metadata": {},
   "outputs": [
    {
     "name": "stdout",
     "output_type": "stream",
     "text": [
      "0.02%\n"
     ]
    },
    {
     "data": {
      "text/plain": [
       "0.019845008556666793"
      ]
     },
     "execution_count": 14,
     "metadata": {},
     "output_type": "execute_result"
    }
   ],
   "source": [
    "# FN Probabilidade Intersecção de Eventos A∩B - E (Independentes)\n",
    "# a prob. é igual o produto dos eventos\n",
    "# events_possible = número de Eventos possíveis dentro do espaço amostral\n",
    "#  sample_space =  Espaço Amostral de todas possibilidades\n",
    "def probability_intersection_event(events_possible_a, events_possible_b, sample_space):\n",
    "    events_possible_a = events_possible_a / sample_space\n",
    "    events_possible_b = events_possible_b / sample_space\n",
    "\n",
    "    result =  (events_possible_a * events_possible_b)*100\n",
    "    print(\"{:.2f}%\".format(result))\n",
    "    return result\n",
    "\n",
    "# prob. de sortear um aluno q fez vestibular em Bauru E Guarulhos\n",
    "# Eventos não excludentes, independentes.\n",
    "probability_intersection_event(len(dataset_bauru), len(dataset_guarulhos), len(dataset_sp))"
   ]
  }
 ],
 "metadata": {
  "kernelspec": {
   "display_name": "Python 3",
   "language": "python",
   "name": "python3"
  },
  "language_info": {
   "codemirror_mode": {
    "name": "ipython",
    "version": 3
   },
   "file_extension": ".py",
   "mimetype": "text/x-python",
   "name": "python",
   "nbconvert_exporter": "python",
   "pygments_lexer": "ipython3",
   "version": "3.8.5"
  },
  "orig_nbformat": 4
 },
 "nbformat": 4,
 "nbformat_minor": 2
}
