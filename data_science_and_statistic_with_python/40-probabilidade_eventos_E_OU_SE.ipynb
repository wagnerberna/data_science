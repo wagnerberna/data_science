{
 "cells": [
  {
   "cell_type": "code",
   "execution_count": 1,
   "metadata": {},
   "outputs": [
    {
     "data": {
      "text/plain": [
       "(81231, 28)"
      ]
     },
     "execution_count": 1,
     "metadata": {},
     "output_type": "execute_result"
    }
   ],
   "source": [
    "import pandas as pd\n",
    "\n",
    "# POPULAÇÃO:\n",
    "dataset_sp = pd.read_csv(\"csv/04-classificados_tratado.csv\", sep=\",\", encoding=\"iso-8859-1\")\n",
    "dataset_sp.shape"
   ]
  },
  {
   "cell_type": "code",
   "execution_count": 2,
   "metadata": {},
   "outputs": [
    {
     "data": {
      "text/plain": [
       "(701, 28)"
      ]
     },
     "execution_count": 2,
     "metadata": {},
     "output_type": "execute_result"
    }
   ],
   "source": [
    "dataset_bauru = dataset_sp.loc[dataset_sp.NO_MUNICIPIO_RESIDENCIA == \"Bauru\"]\n",
    "dataset_bauru.shape"
   ]
  },
  {
   "cell_type": "code",
   "execution_count": 3,
   "metadata": {},
   "outputs": [
    {
     "data": {
      "text/plain": [
       "(1868, 28)"
      ]
     },
     "execution_count": 3,
     "metadata": {},
     "output_type": "execute_result"
    }
   ],
   "source": [
    "dataset_guarulhos = dataset_sp.loc[dataset_sp.NO_MUNICIPIO_RESIDENCIA == \"Guarulhos\"]\n",
    "dataset_guarulhos.shape"
   ]
  },
  {
   "cell_type": "code",
   "execution_count": 6,
   "metadata": {},
   "outputs": [
    {
     "name": "stdout",
     "output_type": "stream",
     "text": [
      "3.16%\n"
     ]
    },
    {
     "data": {
      "text/plain": [
       "3.162585712351196"
      ]
     },
     "execution_count": 6,
     "metadata": {},
     "output_type": "execute_result"
    }
   ],
   "source": [
    "# FN Probabilidade de NÃO Ocorrer um Evento\n",
    "# events_possible = número de Eventos possíveis dentro do espaço amostral\n",
    "#  sample_space =  Espaço Amostral de todas possibilidades\n",
    "# :.2f número de casas após a vírgula\n",
    "def probability_of_not_event(events_possible_a, events_possible_b, sample_space):\n",
    "    events_possible = events_possible_a + events_possible_b\n",
    "    result =  (events_possible / sample_space)*100\n",
    "    print(\"{:.2f}%\".format(result))\n",
    "    return result\n",
    "\n",
    "# prob. de NÃO sortear um aluno de Bauru\n",
    "probability_of_not_event(len(dataset_bauru), len(dataset_guarulhos), len(dataset_sp))"
   ]
  }
 ],
 "metadata": {
  "kernelspec": {
   "display_name": "Python 3",
   "language": "python",
   "name": "python3"
  },
  "language_info": {
   "codemirror_mode": {
    "name": "ipython",
    "version": 3
   },
   "file_extension": ".py",
   "mimetype": "text/x-python",
   "name": "python",
   "nbconvert_exporter": "python",
   "pygments_lexer": "ipython3",
   "version": "3.8.5"
  },
  "orig_nbformat": 4
 },
 "nbformat": 4,
 "nbformat_minor": 2
}
