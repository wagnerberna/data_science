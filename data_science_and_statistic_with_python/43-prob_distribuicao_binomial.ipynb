{
 "cells": [
  {
   "cell_type": "code",
   "execution_count": 2,
   "metadata": {},
   "outputs": [
    {
     "data": {
      "text/plain": [
       "(81231, 28)"
      ]
     },
     "execution_count": 2,
     "metadata": {},
     "output_type": "execute_result"
    }
   ],
   "source": [
    "import pandas as pd\n",
    "import numpy as np\n",
    "from scipy.stats import binom\n",
    "\n",
    "# POPULAÇÃO:\n",
    "dataset_sp = pd.read_csv(\"csv/04-classificados_tratado.csv\", sep=\",\", encoding=\"iso-8859-1\")\n",
    "dataset_sp.shape"
   ]
  },
  {
   "cell_type": "code",
   "execution_count": 3,
   "metadata": {},
   "outputs": [
    {
     "data": {
      "text/plain": [
       "(81231, 28)"
      ]
     },
     "execution_count": 3,
     "metadata": {},
     "output_type": "execute_result"
    }
   ],
   "source": [
    "# Distribuição BINOMIAL\n",
    "dataset_woman = dataset_sp.loc[dataset_sp.SEXO == \"F\"]\n",
    "dataset_sp.shape"
   ]
  },
  {
   "cell_type": "code",
   "execution_count": 4,
   "metadata": {},
   "outputs": [
    {
     "data": {
      "text/plain": [
       "0.6136573475643535"
      ]
     },
     "execution_count": 4,
     "metadata": {},
     "output_type": "execute_result"
    }
   ],
   "source": [
    "# Prob. de sortear uma mulher no enem SP\n",
    "probability_woman = len(dataset_woman)/len(dataset_sp)\n",
    "probability_woman"
   ]
  },
  {
   "cell_type": "code",
   "execution_count": 5,
   "metadata": {},
   "outputs": [],
   "source": [
    "# binom.pmf (valor pontual)\n",
    "# binom.cdf (faixa de valores acumulada do 0 até o ponto estipulado)"
   ]
  },
  {
   "cell_type": "code",
   "execution_count": 6,
   "metadata": {},
   "outputs": [
    {
     "data": {
      "text/plain": [
       "9.902822433030302"
      ]
     },
     "execution_count": 6,
     "metadata": {},
     "output_type": "execute_result"
    }
   ],
   "source": [
    "# Prob de sortear EXATAMENTE 4 mulheres em um total de 10 Amostras\n",
    "# Primeiro parâmetro:valor ou limite que se está pretendo calcular\n",
    "# Segundo: número de tentativas\n",
    "# Terceiro: probabilidade de um sucesso.\n",
    "result_1 = binom.pmf(4,10,probability_woman)\n",
    "result_1 * 100"
   ]
  },
  {
   "cell_type": "code",
   "execution_count": 7,
   "metadata": {},
   "outputs": [
    {
     "data": {
      "text/plain": [
       "99.9925915633535"
      ]
     },
     "execution_count": 7,
     "metadata": {},
     "output_type": "execute_result"
    }
   ],
   "source": [
    "# Usando Regra de NÃO Ocorrência\n",
    "# Prob de sortear PELO MENOS 1 mulheres em um total de 10 Amostras\n",
    "# Se calcula na realidade a prob de NÃO sair nenhuma mulher (zero)\n",
    "# 1 Menos pois é semelhante a prob da não ocorrência \n",
    "result_2 = 1 - binom.pmf(0,10,probability_woman)\n",
    "result_2 * 100"
   ]
  },
  {
   "cell_type": "code",
   "execution_count": 8,
   "metadata": {},
   "outputs": [
    {
     "data": {
      "text/plain": [
       "99.87491774314663"
      ]
     },
     "execution_count": 8,
     "metadata": {},
     "output_type": "execute_result"
    }
   ],
   "source": [
    "# Usando Regra de NÃO Ocorrência\n",
    "# Prob de sortear MAIS q 1 mulheres em um total de 10 Amostras\n",
    "# Se calcula na realidade a prob de NÃO sair nenhuma mulher (zero)\n",
    "# + a prob de não sair 1 única Mulher\n",
    "# prob de não tirar + a prob de tirar apenas 1\n",
    "result_3 = 1 - (binom.pmf(0,10,probability_woman)+binom.pmf(1,10,probability_woman))\n",
    "result_3 * 100"
   ]
  },
  {
   "cell_type": "code",
   "execution_count": 9,
   "metadata": {},
   "outputs": [
    {
     "data": {
      "text/plain": [
       "66.69310918370938"
      ]
     },
     "execution_count": 9,
     "metadata": {},
     "output_type": "execute_result"
    }
   ],
   "source": [
    "# Usando Regra de NÃO Ocorrência\n",
    "# Prob de sortear MAIS q 5 mulheres em um total de 10 Amostras\n",
    "# + a prob de não sair 1 única Mulher\n",
    "# prob de não tirar + a soma das demais prob.\n",
    "result_4 = 1 - (binom.pmf(0,10,probability_woman)+binom.pmf(1,10,probability_woman)\n",
    "                +binom.pmf(2,10,probability_woman)+binom.pmf(3,10,probability_woman)\n",
    "                +binom.pmf(4,10,probability_woman)+binom.pmf(5,10,probability_woman))\n",
    "result_4 * 100"
   ]
  },
  {
   "cell_type": "code",
   "execution_count": 10,
   "metadata": {},
   "outputs": [
    {
     "data": {
      "text/plain": [
       "66.6931091837093"
      ]
     },
     "execution_count": 10,
     "metadata": {},
     "output_type": "execute_result"
    }
   ],
   "source": [
    "# OU\n",
    "# Usando a soma das Prob. de Ocorrência\n",
    "# Prob de sortear MAIS q 5 mulheres em um total de 10 Amostras\n",
    "# + a prob de não sair 1 única Mulher\n",
    "result_5 = (binom.pmf(10,10,probability_woman)+binom.pmf(9,10,probability_woman)\n",
    "            +binom.pmf(8,10,probability_woman)+binom.pmf(7,10,probability_woman)\n",
    "            +binom.pmf(6,10,probability_woman))\n",
    "result_5 * 100"
   ]
  },
  {
   "cell_type": "code",
   "execution_count": 11,
   "metadata": {},
   "outputs": [
    {
     "data": {
      "text/plain": [
       "66.69310918370934"
      ]
     },
     "execution_count": 11,
     "metadata": {},
     "output_type": "execute_result"
    }
   ],
   "source": [
    "# OU\n",
    "# usando o \"cdf\" Acumula as prob. do 0 até o 5\n",
    "# Usando Regra de NÃO Ocorrência\n",
    "# Prob de sortear MAIS q 5 mulheres em um total de 10 Amostras\n",
    "result_6 = 1 - binom.cdf(5,10,probability_woman)\n",
    "result_6 * 100"
   ]
  },
  {
   "cell_type": "code",
   "execution_count": 12,
   "metadata": {},
   "outputs": [
    {
     "data": {
      "text/plain": [
       "5.524954139449035"
      ]
     },
     "execution_count": 12,
     "metadata": {},
     "output_type": "execute_result"
    }
   ],
   "source": [
    "# Usando Regra de Ocorrência\n",
    "# Prob de sortear MAIS q 8 mulheres em um total de 10 Amostras\n",
    "result_7 = binom.pmf(10,10,probability_woman)+binom.pmf(9,10,probability_woman)\n",
    "result_7 * 100"
   ]
  },
  {
   "cell_type": "code",
   "execution_count": 13,
   "metadata": {},
   "outputs": [
    {
     "data": {
      "text/plain": [
       "5.524954139449035"
      ]
     },
     "execution_count": 13,
     "metadata": {},
     "output_type": "execute_result"
    }
   ],
   "source": [
    "# OU\n",
    "# Prob de sortear MAIS q 8 mulheres em um total de 10 Amostras\n",
    "# Calcula a prob de 10 acumulada e diminui a de 8 acum.\n",
    "result_8 = binom.cdf(10,10,probability_woman) - binom.cdf(8,10,probability_woman)\n",
    "result_8 * 100"
   ]
  }
 ],
 "metadata": {
  "kernelspec": {
   "display_name": "Python 3",
   "language": "python",
   "name": "python3"
  },
  "language_info": {
   "codemirror_mode": {
    "name": "ipython",
    "version": 3
   },
   "file_extension": ".py",
   "mimetype": "text/x-python",
   "name": "python",
   "nbconvert_exporter": "python",
   "pygments_lexer": "ipython3",
   "version": "3.8.5"
  },
  "orig_nbformat": 4
 },
 "nbformat": 4,
 "nbformat_minor": 2
}
