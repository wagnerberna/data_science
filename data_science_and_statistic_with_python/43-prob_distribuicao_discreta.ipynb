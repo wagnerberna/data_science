{
 "cells": [
  {
   "cell_type": "code",
   "execution_count": 2,
   "metadata": {},
   "outputs": [
    {
     "data": {
      "text/plain": [
       "(81231, 28)"
      ]
     },
     "execution_count": 2,
     "metadata": {},
     "output_type": "execute_result"
    }
   ],
   "source": [
    "import pandas as pd\n",
    "import numpy as np\n",
    "from scipy.stats import binom\n",
    "\n",
    "# POPULAÇÃO:\n",
    "dataset_sp = pd.read_csv(\"csv/04-classificados_tratado.csv\", sep=\",\", encoding=\"iso-8859-1\")\n",
    "dataset_sp.shape"
   ]
  },
  {
   "cell_type": "code",
   "execution_count": 3,
   "metadata": {},
   "outputs": [
    {
     "data": {
      "text/plain": [
       "(81231, 28)"
      ]
     },
     "execution_count": 3,
     "metadata": {},
     "output_type": "execute_result"
    }
   ],
   "source": [
    "# Distribuição Binomial\n",
    "dataset_woman = dataset_sp.loc[dataset_sp.SEXO == \"F\"]\n",
    "dataset_sp.shape"
   ]
  },
  {
   "cell_type": "code",
   "execution_count": 9,
   "metadata": {},
   "outputs": [
    {
     "data": {
      "text/plain": [
       "0.6136573475643535"
      ]
     },
     "execution_count": 9,
     "metadata": {},
     "output_type": "execute_result"
    }
   ],
   "source": [
    "# Prob. de sortear uma mulher no enem SP\n",
    "probability_woman = len(dataset_woman)/len(dataset_sp)\n",
    "probability_woman"
   ]
  },
  {
   "cell_type": "code",
   "execution_count": null,
   "metadata": {},
   "outputs": [],
   "source": [
    "# binom.pmf (valor pontual)\n",
    "# binom.cdf (faixa de valores acumulada)"
   ]
  },
  {
   "cell_type": "code",
   "execution_count": 12,
   "metadata": {},
   "outputs": [
    {
     "data": {
      "text/plain": [
       "9.902822433030302"
      ]
     },
     "execution_count": 12,
     "metadata": {},
     "output_type": "execute_result"
    }
   ],
   "source": [
    "# Prob de sortear EXATAMENTE 4 mulheres em um total de 10 Amostras\n",
    "# Primeiro parâmetro:valor ou limite que se está pretendo calcular\n",
    "# Segundo: número de tentativas\n",
    "# Terceiro: probabilidade de um sucesso.\n",
    "result_1 = binom.pmf(4,10,probability_woman)\n",
    "result_1 * 100"
   ]
  },
  {
   "cell_type": "code",
   "execution_count": 53,
   "metadata": {},
   "outputs": [
    {
     "data": {
      "text/plain": [
       "99.9925915633535"
      ]
     },
     "execution_count": 53,
     "metadata": {},
     "output_type": "execute_result"
    }
   ],
   "source": [
    "# Prob de sortear PELO MENOS 1 mulheres em um total de 10 Amostras\n",
    "# Se calcula na realidade a prob de NÃO sair nenhuma mulher (zero)\n",
    "# 1 Menos pois é semelhante a prob da não ocorrência \n",
    "result_2 = 1 - binom.pmf(0,10,probability_woman)\n",
    "result_2 * 100"
   ]
  },
  {
   "cell_type": "code",
   "execution_count": 30,
   "metadata": {},
   "outputs": [
    {
     "data": {
      "text/plain": [
       "16.666666666666664"
      ]
     },
     "execution_count": 30,
     "metadata": {},
     "output_type": "execute_result"
    }
   ],
   "source": []
  }
 ],
 "metadata": {
  "kernelspec": {
   "display_name": "Python 3",
   "language": "python",
   "name": "python3"
  },
  "language_info": {
   "codemirror_mode": {
    "name": "ipython",
    "version": 3
   },
   "file_extension": ".py",
   "mimetype": "text/x-python",
   "name": "python",
   "nbconvert_exporter": "python",
   "pygments_lexer": "ipython3",
   "version": "3.8.5"
  },
  "orig_nbformat": 4
 },
 "nbformat": 4,
 "nbformat_minor": 2
}
