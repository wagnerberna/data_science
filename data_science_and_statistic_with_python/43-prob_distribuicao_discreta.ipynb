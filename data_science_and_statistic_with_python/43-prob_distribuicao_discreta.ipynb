{
 "cells": [
  {
   "cell_type": "code",
   "execution_count": 2,
   "metadata": {},
   "outputs": [
    {
     "data": {
      "text/plain": [
       "(81231, 28)"
      ]
     },
     "execution_count": 2,
     "metadata": {},
     "output_type": "execute_result"
    }
   ],
   "source": [
    "import pandas as pd\n",
    "import numpy as np\n",
    "from scipy.stats import binom\n",
    "\n",
    "# POPULAÇÃO:\n",
    "dataset_sp = pd.read_csv(\"csv/04-classificados_tratado.csv\", sep=\",\", encoding=\"iso-8859-1\")\n",
    "dataset_sp.shape"
   ]
  },
  {
   "cell_type": "code",
   "execution_count": 3,
   "metadata": {},
   "outputs": [
    {
     "data": {
      "text/plain": [
       "(81231, 28)"
      ]
     },
     "execution_count": 3,
     "metadata": {},
     "output_type": "execute_result"
    }
   ],
   "source": [
    "# Distribuição Binomial\n",
    "dataset_woman = dataset_sp.loc[dataset_sp.SEXO == \"F\"]\n",
    "dataset_sp.shape"
   ]
  },
  {
   "cell_type": "code",
   "execution_count": 9,
   "metadata": {},
   "outputs": [
    {
     "data": {
      "text/plain": [
       "0.6136573475643535"
      ]
     },
     "execution_count": 9,
     "metadata": {},
     "output_type": "execute_result"
    }
   ],
   "source": [
    "# Prob. de sortear uma mulher no enem SP\n",
    "probability_woman = len(dataset_woman)/len(dataset_sp)\n",
    "probability_woman"
   ]
  },
  {
   "cell_type": "code",
   "execution_count": null,
   "metadata": {},
   "outputs": [],
   "source": [
    "# binom.pmf (valor pontual)\n",
    "# binom.cdf (faixa de valores acumulada)"
   ]
  },
  {
   "cell_type": "code",
   "execution_count": 12,
   "metadata": {},
   "outputs": [
    {
     "data": {
      "text/plain": [
       "9.902822433030302"
      ]
     },
     "execution_count": 12,
     "metadata": {},
     "output_type": "execute_result"
    }
   ],
   "source": [
    "# Prob de sortear EXATAMENTE 4 mulheres em um total de 10 Amostras\n",
    "# Primeiro parâmetro:valor ou limite que se está pretendo calcular\n",
    "# Segundo: número de tentativas\n",
    "# Terceiro: probabilidade de um sucesso.\n",
    "result_1 = binom.pmf(4,10,probability_woman)\n",
    "result_1 * 100"
   ]
  },
  {
   "cell_type": "code",
   "execution_count": 53,
   "metadata": {},
   "outputs": [
    {
     "data": {
      "text/plain": [
       "99.9925915633535"
      ]
     },
     "execution_count": 53,
     "metadata": {},
     "output_type": "execute_result"
    }
   ],
   "source": [
    "# Prob de sortear PELO MENOS 1 mulheres em um total de 10 Amostras\n",
    "# Se calcula na realidade a prob de NÃO sair nenhuma mulher (zero)\n",
    "# 1 Menos pois é semelhante a prob da não ocorrência \n",
    "result_2 = 1 - binom.pmf(0,10,probability_woman)\n",
    "result_2 * 100"
   ]
  },
  {
   "cell_type": "code",
   "execution_count": 30,
   "metadata": {},
   "outputs": [
    {
     "data": {
      "text/plain": [
       "16.666666666666664"
      ]
     },
     "execution_count": 30,
     "metadata": {},
     "output_type": "execute_result"
    }
   ],
   "source": [
    "# Dados prob de tirar o número \"x\" em 1 lançamento\n",
    "probaility_dice = 1/6\n",
    "probaility_dice * 100"
   ]
  },
  {
   "cell_type": "code",
   "execution_count": 61,
   "metadata": {},
   "outputs": [
    {
     "data": {
      "text/plain": [
       "15.504535957425189"
      ]
     },
     "execution_count": 61,
     "metadata": {},
     "output_type": "execute_result"
    }
   ],
   "source": [
    "# Dados prob de tirar o número \"x\" EXATAMENTE 3 vezes em 10 lançamentos\n",
    "result_dice_1 = binom.pmf(3,10, probaility_dice)\n",
    "result_dice_1*100"
   ]
  },
  {
   "cell_type": "code",
   "execution_count": 60,
   "metadata": {},
   "outputs": [
    {
     "data": {
      "text/plain": [
       "1.3023810204237158"
      ]
     },
     "execution_count": 60,
     "metadata": {},
     "output_type": "execute_result"
    }
   ],
   "source": [
    "# Dados prob de tirar o número \"x\" EXATAMENTE 5 vezes em 10 lançamentos\n",
    "result_dice_2 = binom.pmf(5, 10, probaility_dice)\n",
    "result_dice_2*100"
   ]
  },
  {
   "cell_type": "code",
   "execution_count": 62,
   "metadata": {},
   "outputs": [
    {
     "data": {
      "text/plain": [
       "83.84944171101542"
      ]
     },
     "execution_count": 62,
     "metadata": {},
     "output_type": "execute_result"
    }
   ],
   "source": [
    "# Dados prob de tirar o número 1 ao menos 1 vez em 10 lançamentos\n",
    "result_dice_3 = 1 - binom.pmf(0, 10, probaility_dice)\n",
    "result_dice_3*100"
   ]
  },
  {
   "cell_type": "code",
   "execution_count": 69,
   "metadata": {},
   "outputs": [
    {
     "data": {
      "text/plain": [
       "50.0"
      ]
     },
     "execution_count": 69,
     "metadata": {},
     "output_type": "execute_result"
    }
   ],
   "source": [
    "# Moeda prob de tirar uma face em 1 lançamento\n",
    "probaility_coin = 1/2\n",
    "probaility_coin * 100"
   ]
  },
  {
   "cell_type": "code",
   "execution_count": 71,
   "metadata": {},
   "outputs": [
    {
     "data": {
      "text/plain": [
       "50.00000000000002"
      ]
     },
     "execution_count": 71,
     "metadata": {},
     "output_type": "execute_result"
    }
   ],
   "source": [
    "# Moeda prob de tirar face EXATAMENTE 1 vez em 2 lançamento\n",
    "result_coin_4 = binom.pmf(1, 2, probaility_coin)\n",
    "result_coin_4*100"
   ]
  },
  {
   "cell_type": "code",
   "execution_count": 76,
   "metadata": {},
   "outputs": [
    {
     "data": {
      "text/plain": [
       "24.609375"
      ]
     },
     "execution_count": 76,
     "metadata": {},
     "output_type": "execute_result"
    }
   ],
   "source": [
    "# Moeda prob de tirar a mesma face EXATAMENTE 5 vezes em 10 lançamento\n",
    "result_coin_3 = binom.pmf(5, 10, probaility_coin)\n",
    "result_coin_3*100"
   ]
  },
  {
   "cell_type": "code",
   "execution_count": 77,
   "metadata": {},
   "outputs": [
    {
     "data": {
      "text/plain": [
       "11.718749999999998"
      ]
     },
     "execution_count": 77,
     "metadata": {},
     "output_type": "execute_result"
    }
   ],
   "source": [
    "# Moeda prob de tirar a mesma face EXATAMENTE 3 vezes em 10 lançamento\n",
    "result_coin_1 = binom.pmf(3, 10, probaility_coin)\n",
    "result_coin_1*100"
   ]
  },
  {
   "cell_type": "code",
   "execution_count": 78,
   "metadata": {},
   "outputs": [
    {
     "data": {
      "text/plain": [
       "11.718749999999996"
      ]
     },
     "execution_count": 78,
     "metadata": {},
     "output_type": "execute_result"
    }
   ],
   "source": [
    "# Moeda prob de tirar a mesma face EXATAMENTE 7 vezes em 10 lançamento\n",
    "result_coin_2 = binom.pmf(7, 10, probaility_coin)\n",
    "result_coin_2*100"
   ]
  },
  {
   "cell_type": "code",
   "execution_count": 81,
   "metadata": {},
   "outputs": [
    {
     "data": {
      "text/plain": [
       "7.958923738717876"
      ]
     },
     "execution_count": 81,
     "metadata": {},
     "output_type": "execute_result"
    }
   ],
   "source": [
    "# Moeda prob de tirar a mesma face EXATAMENTE 50 vezes em 100 lançamento\n",
    "result_coin_5 = binom.pmf(50, 100, probaility_coin)\n",
    "result_coin_5*100"
   ]
  },
  {
   "cell_type": "code",
   "execution_count": 82,
   "metadata": {},
   "outputs": [
    {
     "data": {
      "text/plain": [
       "2.5225018178360825"
      ]
     },
     "execution_count": 82,
     "metadata": {},
     "output_type": "execute_result"
    }
   ],
   "source": [
    "# Moeda prob de tirar a mesma face EXATAMENTE 500 vezes em 1000 lançamento\n",
    "result_coin_6 = binom.pmf(500, 1000, probaility_coin)\n",
    "result_coin_6*100"
   ]
  }
 ],
 "metadata": {
  "kernelspec": {
   "display_name": "Python 3",
   "language": "python",
   "name": "python3"
  },
  "language_info": {
   "codemirror_mode": {
    "name": "ipython",
    "version": 3
   },
   "file_extension": ".py",
   "mimetype": "text/x-python",
   "name": "python",
   "nbconvert_exporter": "python",
   "pygments_lexer": "ipython3",
   "version": "3.8.5"
  },
  "orig_nbformat": 4
 },
 "nbformat": 4,
 "nbformat_minor": 2
}
