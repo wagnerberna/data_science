{
 "cells": [
  {
   "cell_type": "code",
   "execution_count": 7,
   "metadata": {},
   "outputs": [],
   "source": [
    "from barcode import EAN13, EAN14, UPCA, JAN, ISBN13\n",
    "from barcode.writer import ImageWriter # para salvar em png"
   ]
  },
  {
   "cell_type": "code",
   "execution_count": 8,
   "metadata": {},
   "outputs": [
    {
     "data": {
      "text/plain": [
       "'codigo_barras.png'"
      ]
     },
     "execution_count": 8,
     "metadata": {},
     "output_type": "execute_result"
    }
   ],
   "source": [
    "number_convert = \"000001000685\"\n",
    "bar_code = UPCA(number_convert, writer=ImageWriter())\n",
    "bar_code.save(\"codigo_barras\")"
   ]
  }
 ],
 "metadata": {
  "kernelspec": {
   "display_name": "Python 3.10.5 64-bit",
   "language": "python",
   "name": "python3"
  },
  "language_info": {
   "codemirror_mode": {
    "name": "ipython",
    "version": 3
   },
   "file_extension": ".py",
   "mimetype": "text/x-python",
   "name": "python",
   "nbconvert_exporter": "python",
   "pygments_lexer": "ipython3",
   "version": "3.10.5"
  },
  "orig_nbformat": 4,
  "vscode": {
   "interpreter": {
    "hash": "bc3950fb5dc555ca32ff44e1297c54743b5b1b732b15efdb53deabfbd4ee276b"
   }
  }
 },
 "nbformat": 4,
 "nbformat_minor": 2
}
