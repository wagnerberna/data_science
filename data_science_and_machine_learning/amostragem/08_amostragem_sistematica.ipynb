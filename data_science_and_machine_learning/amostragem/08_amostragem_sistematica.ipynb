{
 "cells": [
  {
   "cell_type": "code",
   "execution_count": 11,
   "metadata": {},
   "outputs": [
    {
     "data": {
      "text/plain": [
       "(32561, 15)"
      ]
     },
     "execution_count": 11,
     "metadata": {},
     "output_type": "execute_result"
    }
   ],
   "source": [
    "import pandas as pd\n",
    "import random\n",
    "import numpy as np\n",
    "\n",
    "file_census = \"../data_base/census.csv\"\n",
    "\n",
    "dataset = pd.read_csv(file_census)\n",
    "\n",
    "# Indica o número de Linhas e colunas\n",
    "dataset.shape"
   ]
  },
  {
   "cell_type": "code",
   "execution_count": 12,
   "metadata": {},
   "outputs": [
    {
     "name": "stdout",
     "output_type": "stream",
     "text": [
      "326\n"
     ]
    }
   ],
   "source": [
    "# Amostrage Sistemática\n",
    "# Identificar o tamanho da População dataset e dividir pelo número de amostras q serão coletadas\n",
    "amostras = 100\n",
    "populacao = len(dataset)\n",
    "intervalo = round(populacao / amostras)\n",
    "print(intervalo)"
   ]
  },
  {
   "cell_type": "code",
   "execution_count": 13,
   "metadata": {},
   "outputs": [
    {
     "name": "stdout",
     "output_type": "stream",
     "text": [
      "68\n"
     ]
    }
   ],
   "source": [
    "# selecionar um valor aleatório para primeira amostra\n",
    "random.seed(1)\n",
    "primeira_amostra = random.randint(0, intervalo)\n",
    "print(primeira_amostra)"
   ]
  },
  {
   "cell_type": "code",
   "execution_count": 14,
   "metadata": {},
   "outputs": [
    {
     "name": "stdout",
     "output_type": "stream",
     "text": [
      "68 394 720\n"
     ]
    }
   ],
   "source": [
    "# Primeira amostra 68\n",
    "# Segunda = 68 + 326\n",
    "# Terceira = seg + 326\n",
    "segunda_amostra = primeira_amostra + intervalo\n",
    "terceira_amostra = segunda_amostra + intervalo\n",
    "print(primeira_amostra, segunda_amostra, terceira_amostra)"
   ]
  },
  {
   "cell_type": "code",
   "execution_count": 15,
   "metadata": {},
   "outputs": [
    {
     "name": "stdout",
     "output_type": "stream",
     "text": [
      "[   68   394   720  1046  1372  1698  2024  2350  2676  3002  3328  3654\n",
      "  3980  4306  4632  4958  5284  5610  5936  6262  6588  6914  7240  7566\n",
      "  7892  8218  8544  8870  9196  9522  9848 10174 10500 10826 11152 11478\n",
      " 11804 12130 12456 12782 13108 13434 13760 14086 14412 14738 15064 15390\n",
      " 15716 16042 16368 16694 17020 17346 17672 17998 18324 18650 18976 19302\n",
      " 19628 19954 20280 20606 20932 21258 21584 21910 22236 22562 22888 23214\n",
      " 23540 23866 24192 24518 24844 25170 25496 25822 26148 26474 26800 27126\n",
      " 27452 27778 28104 28430 28756 29082 29408 29734 30060 30386 30712 31038\n",
      " 31364 31690 32016 32342]\n"
     ]
    }
   ],
   "source": [
    "# np.arange Gera números, sem laço de repetição\n",
    "# valor inicial, final e step valor do intervalo\n",
    "sequencia_amostras = np.arange(primeira_amostra, populacao, step = intervalo)\n",
    "print(sequencia_amostras)"
   ]
  },
  {
   "cell_type": "code",
   "execution_count": 16,
   "metadata": {},
   "outputs": [],
   "source": [
    "# FN de amostra sistemática:\n",
    "# iloc localiza no df os valores referentes aos índices\n",
    "def sample_systematic(dataset, sample_quantity):\n",
    "    population_quantity = len(dataset)\n",
    "    interval = round(population_quantity / sample_quantity)\n",
    "    # random.seed(1)\n",
    "    begin = random.randint(0, interval)\n",
    "    indices = np.arange(begin, population_quantity, step= interval)\n",
    "    print(indices)\n",
    "    df_samples = dataset.iloc[indices]\n",
    "    return df_samples"
   ]
  },
  {
   "cell_type": "code",
   "execution_count": 21,
   "metadata": {},
   "outputs": [
    {
     "name": "stdout",
     "output_type": "stream",
     "text": [
      "[   68   394   720  1046  1372  1698  2024  2350  2676  3002  3328  3654\n",
      "  3980  4306  4632  4958  5284  5610  5936  6262  6588  6914  7240  7566\n",
      "  7892  8218  8544  8870  9196  9522  9848 10174 10500 10826 11152 11478\n",
      " 11804 12130 12456 12782 13108 13434 13760 14086 14412 14738 15064 15390\n",
      " 15716 16042 16368 16694 17020 17346 17672 17998 18324 18650 18976 19302\n",
      " 19628 19954 20280 20606 20932 21258 21584 21910 22236 22562 22888 23214\n",
      " 23540 23866 24192 24518 24844 25170 25496 25822 26148 26474 26800 27126\n",
      " 27452 27778 28104 28430 28756 29082 29408 29734 30060 30386 30712 31038\n",
      " 31364 31690 32016 32342]\n"
     ]
    },
    {
     "data": {
      "text/plain": [
       "(100, 15)"
      ]
     },
     "execution_count": 21,
     "metadata": {},
     "output_type": "execute_result"
    }
   ],
   "source": [
    "df_samples_systematic = sample_systematic(dataset, 100)\n",
    "df_samples_systematic.shape"
   ]
  },
  {
   "cell_type": "code",
   "execution_count": 20,
   "metadata": {},
   "outputs": [
    {
     "data": {
      "text/html": [
       "<div>\n",
       "<style scoped>\n",
       "    .dataframe tbody tr th:only-of-type {\n",
       "        vertical-align: middle;\n",
       "    }\n",
       "\n",
       "    .dataframe tbody tr th {\n",
       "        vertical-align: top;\n",
       "    }\n",
       "\n",
       "    .dataframe thead th {\n",
       "        text-align: right;\n",
       "    }\n",
       "</style>\n",
       "<table border=\"1\" class=\"dataframe\">\n",
       "  <thead>\n",
       "    <tr style=\"text-align: right;\">\n",
       "      <th></th>\n",
       "      <th>age</th>\n",
       "      <th>workclass</th>\n",
       "      <th>final-weight</th>\n",
       "      <th>education</th>\n",
       "      <th>education-num</th>\n",
       "      <th>marital-status</th>\n",
       "      <th>occupation</th>\n",
       "      <th>relationship</th>\n",
       "      <th>race</th>\n",
       "      <th>sex</th>\n",
       "      <th>capital-gain</th>\n",
       "      <th>capital-loos</th>\n",
       "      <th>hour-per-week</th>\n",
       "      <th>native-country</th>\n",
       "      <th>income</th>\n",
       "    </tr>\n",
       "  </thead>\n",
       "  <tbody>\n",
       "    <tr>\n",
       "      <th>68</th>\n",
       "      <td>49</td>\n",
       "      <td>Self-emp-inc</td>\n",
       "      <td>191681</td>\n",
       "      <td>Some-college</td>\n",
       "      <td>10</td>\n",
       "      <td>Married-civ-spouse</td>\n",
       "      <td>Exec-managerial</td>\n",
       "      <td>Husband</td>\n",
       "      <td>White</td>\n",
       "      <td>Male</td>\n",
       "      <td>0</td>\n",
       "      <td>0</td>\n",
       "      <td>50</td>\n",
       "      <td>United-States</td>\n",
       "      <td>&gt;50K</td>\n",
       "    </tr>\n",
       "    <tr>\n",
       "      <th>394</th>\n",
       "      <td>34</td>\n",
       "      <td>Private</td>\n",
       "      <td>196164</td>\n",
       "      <td>HS-grad</td>\n",
       "      <td>9</td>\n",
       "      <td>Never-married</td>\n",
       "      <td>Other-service</td>\n",
       "      <td>Not-in-family</td>\n",
       "      <td>White</td>\n",
       "      <td>Female</td>\n",
       "      <td>0</td>\n",
       "      <td>0</td>\n",
       "      <td>35</td>\n",
       "      <td>United-States</td>\n",
       "      <td>&lt;=50K</td>\n",
       "    </tr>\n",
       "    <tr>\n",
       "      <th>720</th>\n",
       "      <td>33</td>\n",
       "      <td>Private</td>\n",
       "      <td>182556</td>\n",
       "      <td>HS-grad</td>\n",
       "      <td>9</td>\n",
       "      <td>Never-married</td>\n",
       "      <td>Other-service</td>\n",
       "      <td>Not-in-family</td>\n",
       "      <td>White</td>\n",
       "      <td>Male</td>\n",
       "      <td>0</td>\n",
       "      <td>0</td>\n",
       "      <td>40</td>\n",
       "      <td>United-States</td>\n",
       "      <td>&lt;=50K</td>\n",
       "    </tr>\n",
       "    <tr>\n",
       "      <th>1046</th>\n",
       "      <td>64</td>\n",
       "      <td>?</td>\n",
       "      <td>196288</td>\n",
       "      <td>Assoc-acdm</td>\n",
       "      <td>12</td>\n",
       "      <td>Never-married</td>\n",
       "      <td>?</td>\n",
       "      <td>Not-in-family</td>\n",
       "      <td>White</td>\n",
       "      <td>Female</td>\n",
       "      <td>0</td>\n",
       "      <td>0</td>\n",
       "      <td>20</td>\n",
       "      <td>United-States</td>\n",
       "      <td>&lt;=50K</td>\n",
       "    </tr>\n",
       "    <tr>\n",
       "      <th>1372</th>\n",
       "      <td>43</td>\n",
       "      <td>Private</td>\n",
       "      <td>221550</td>\n",
       "      <td>Masters</td>\n",
       "      <td>14</td>\n",
       "      <td>Never-married</td>\n",
       "      <td>Other-service</td>\n",
       "      <td>Not-in-family</td>\n",
       "      <td>White</td>\n",
       "      <td>Female</td>\n",
       "      <td>0</td>\n",
       "      <td>0</td>\n",
       "      <td>30</td>\n",
       "      <td>Poland</td>\n",
       "      <td>&lt;=50K</td>\n",
       "    </tr>\n",
       "  </tbody>\n",
       "</table>\n",
       "</div>"
      ],
      "text/plain": [
       "      age      workclass  final-weight      education  education-num  \\\n",
       "68     49   Self-emp-inc        191681   Some-college             10   \n",
       "394    34        Private        196164        HS-grad              9   \n",
       "720    33        Private        182556        HS-grad              9   \n",
       "1046   64              ?        196288     Assoc-acdm             12   \n",
       "1372   43        Private        221550        Masters             14   \n",
       "\n",
       "           marital-status        occupation    relationship    race      sex  \\\n",
       "68     Married-civ-spouse   Exec-managerial         Husband   White     Male   \n",
       "394         Never-married     Other-service   Not-in-family   White   Female   \n",
       "720         Never-married     Other-service   Not-in-family   White     Male   \n",
       "1046        Never-married                 ?   Not-in-family   White   Female   \n",
       "1372        Never-married     Other-service   Not-in-family   White   Female   \n",
       "\n",
       "      capital-gain  capital-loos  hour-per-week  native-country  income  \n",
       "68               0             0             50   United-States    >50K  \n",
       "394              0             0             35   United-States   <=50K  \n",
       "720              0             0             40   United-States   <=50K  \n",
       "1046             0             0             20   United-States   <=50K  \n",
       "1372             0             0             30          Poland   <=50K  "
      ]
     },
     "execution_count": 20,
     "metadata": {},
     "output_type": "execute_result"
    }
   ],
   "source": [
    "df_samples_systematic.head()"
   ]
  }
 ],
 "metadata": {
  "interpreter": {
   "hash": "df0893f56f349688326838aaeea0de204df53a132722cbd565e54b24a8fec5f6"
  },
  "kernelspec": {
   "display_name": "Python 3",
   "language": "python",
   "name": "python3"
  },
  "language_info": {
   "codemirror_mode": {
    "name": "ipython",
    "version": 3
   },
   "file_extension": ".py",
   "mimetype": "text/x-python",
   "name": "python",
   "nbconvert_exporter": "python",
   "pygments_lexer": "ipython3",
   "version": "3.8.10"
  },
  "orig_nbformat": 4
 },
 "nbformat": 4,
 "nbformat_minor": 2
}
