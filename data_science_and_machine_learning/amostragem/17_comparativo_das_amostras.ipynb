{
 "cells": [
  {
   "cell_type": "code",
   "execution_count": 12,
   "metadata": {},
   "outputs": [
    {
     "data": {
      "text/plain": [
       "(32561, 15)"
      ]
     },
     "execution_count": 12,
     "metadata": {},
     "output_type": "execute_result"
    }
   ],
   "source": [
    "import pandas as pd\n",
    "import random\n",
    "import numpy as np\n",
    "from sklearn.model_selection import StratifiedShuffleSplit\n",
    "\n",
    "file_census = \"../data_base/census.csv\"\n",
    "\n",
    "dataset = pd.read_csv(file_census)\n",
    "\n",
    "# Indica o número de Linhas e colunas\n",
    "dataset.shape"
   ]
  },
  {
   "cell_type": "code",
   "execution_count": 3,
   "metadata": {},
   "outputs": [
    {
     "data": {
      "text/plain": [
       "38.58164675532078"
      ]
     },
     "execution_count": 3,
     "metadata": {},
     "output_type": "execute_result"
    }
   ],
   "source": [
    "# .mean(): Média das idades\n",
    "media_idade = dataset[\"age\"].mean()\n",
    "media_idade"
   ]
  },
  {
   "cell_type": "code",
   "execution_count": 4,
   "metadata": {},
   "outputs": [],
   "source": [
    "# Amostra Aleatória Simples:\n",
    "def simple_random_sample(dataset, sample_quantity):\n",
    "    return dataset.sample(n=sample_quantity, random_state=1)"
   ]
  },
  {
   "cell_type": "code",
   "execution_count": 17,
   "metadata": {},
   "outputs": [],
   "source": [
    "df_amostra_aleatoria_simples = simple_random_sample(dataset, 100)"
   ]
  },
  {
   "cell_type": "code",
   "execution_count": 6,
   "metadata": {},
   "outputs": [],
   "source": [
    "# Amostras Sistemática:\n",
    "def sample_systematic(dataset, sample_quantity):\n",
    "    population_quantity = len(dataset)\n",
    "    interval = round(population_quantity / sample_quantity)\n",
    "    # random.seed(1)\n",
    "    begin = random.randint(0, interval)\n",
    "    indices = np.arange(begin, population_quantity, step= interval)\n",
    "    # print(indices)\n",
    "    df_samples = dataset.iloc[indices]\n",
    "    return df_samples"
   ]
  },
  {
   "cell_type": "code",
   "execution_count": 18,
   "metadata": {},
   "outputs": [
    {
     "name": "stdout",
     "output_type": "stream",
     "text": [
      "[   10   336   662   988  1314  1640  1966  2292  2618  2944  3270  3596\n",
      "  3922  4248  4574  4900  5226  5552  5878  6204  6530  6856  7182  7508\n",
      "  7834  8160  8486  8812  9138  9464  9790 10116 10442 10768 11094 11420\n",
      " 11746 12072 12398 12724 13050 13376 13702 14028 14354 14680 15006 15332\n",
      " 15658 15984 16310 16636 16962 17288 17614 17940 18266 18592 18918 19244\n",
      " 19570 19896 20222 20548 20874 21200 21526 21852 22178 22504 22830 23156\n",
      " 23482 23808 24134 24460 24786 25112 25438 25764 26090 26416 26742 27068\n",
      " 27394 27720 28046 28372 28698 29024 29350 29676 30002 30328 30654 30980\n",
      " 31306 31632 31958 32284]\n"
     ]
    }
   ],
   "source": [
    "df_amostra_sistematica = sample_systematic(dataset, 100)"
   ]
  },
  {
   "cell_type": "code",
   "execution_count": 16,
   "metadata": {},
   "outputs": [],
   "source": [
    "# Amostra por Grupo:\n",
    "def sample_group(dataset, group_quantity):\n",
    "    groups_id_list = []\n",
    "    population_length = len(dataset)\n",
    "    # Intervalo de elementos em cada grupo\n",
    "    interval = population_length / group_quantity\n",
    "    id_group = 0\n",
    "    count = 0\n",
    "    \n",
    "    # for percorre o dataframe e add na lista um número referente ao grupo\n",
    "    for _ in dataset.iterrows():\n",
    "        groups_id_list.append(id_group)\n",
    "        count += 1\n",
    "        if count > interval:\n",
    "            count = 0\n",
    "            id_group += 1\n",
    "    \n",
    "    print(np.unique(groups_id_list, return_counts = True))\n",
    "    print(groups_id_list)\n",
    "\n",
    "    \n",
    "    # cria coluna grupo se não existir e atribui os valores\n",
    "    dataset[\"group\"] = groups_id_list\n",
    "    # random.seed(1)\n",
    "    # seleciona um número randômico dentro da quantidade de grupos\n",
    "    selected_group_code = random.randint(0, group_quantity)\n",
    "\n",
    "    # seleciona as amostras onde o grupo é igual ao sorteado\n",
    "    df_sample_group = dataset[dataset[\"group\"] == selected_group_code]\n",
    "    return df_sample_group"
   ]
  },
  {
   "cell_type": "code",
   "execution_count": null,
   "metadata": {},
   "outputs": [],
   "source": [
    "df_amostra_por_grupo = sample_group(dataset, 10)\n",
    "df_amostra_por_grupo.shape"
   ]
  },
  {
   "cell_type": "code",
   "execution_count": 13,
   "metadata": {},
   "outputs": [],
   "source": [
    "# Amostra Estratificada:\n",
    "def sample_stratified(dataset, field, percentage):\n",
    "    percentage_split = percentage / 100\n",
    "    split = StratifiedShuffleSplit(test_size=percentage_split, random_state=1)\n",
    "    for _, y in split.split(dataset, dataset[field]):\n",
    "        df_y = dataset.iloc[y]\n",
    "    return df_y"
   ]
  },
  {
   "cell_type": "code",
   "execution_count": 15,
   "metadata": {},
   "outputs": [],
   "source": [
    "df_amostra_estratificada = sample_stratified( dataset, \"income\", 10)"
   ]
  },
  {
   "cell_type": "code",
   "execution_count": null,
   "metadata": {},
   "outputs": [],
   "source": [
    "# Comparativo amostragens:\n",
    "media_geral = dataset[\"age\"].mean()\n",
    "print(\"media_geral:\", media_geral)\n",
    "\n",
    "media_amostra_aleatoria_simples = df_amostra_aleatoria_simples[\"age\"].mean()\n",
    "print(\"media_amostra_aleatoria_simples:\", media_amostra_aleatoria_simples)\n",
    "\n",
    "media_amostra_sistematica = df_amostra_sistematica[\"age\"].mean()\n",
    "print(\"media_amostra_sistematica:\", media_amostra_sistematica)\n",
    "\n",
    "media_amostra_por_grupo = df_amostra_por_grupo[\"age\"].mean()\n",
    "print(\"media_amostra_por_grupo:\", media_amostra_por_grupo)\n",
    "\n",
    "media_amostra_estratificada = df_amostra_estratificada[\"age\"].mean()\n",
    "print(\"media_amostra_estratificada:\", media_amostra_estratificada)"
   ]
  }
 ],
 "metadata": {
  "kernelspec": {
   "display_name": "Python 3",
   "language": "python",
   "name": "python3"
  },
  "language_info": {
   "codemirror_mode": {
    "name": "ipython",
    "version": 3
   },
   "file_extension": ".py",
   "mimetype": "text/x-python",
   "name": "python",
   "nbconvert_exporter": "python",
   "pygments_lexer": "ipython3",
   "version": "3.11.2"
  },
  "orig_nbformat": 4
 },
 "nbformat": 4,
 "nbformat_minor": 2
}
