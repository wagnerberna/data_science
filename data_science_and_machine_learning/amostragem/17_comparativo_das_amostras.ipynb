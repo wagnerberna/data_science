{
 "cells": [
  {
   "cell_type": "code",
   "execution_count": 12,
   "metadata": {},
   "outputs": [
    {
     "data": {
      "text/plain": [
       "(32561, 15)"
      ]
     },
     "execution_count": 12,
     "metadata": {},
     "output_type": "execute_result"
    }
   ],
   "source": [
    "import pandas as pd\n",
    "import random\n",
    "import numpy as np\n",
    "from sklearn.model_selection import StratifiedShuffleSplit\n",
    "\n",
    "file_census = \"../data_base/census.csv\"\n",
    "\n",
    "dataset = pd.read_csv(file_census)\n",
    "\n",
    "# Indica o número de Linhas e colunas\n",
    "dataset.shape"
   ]
  },
  {
   "cell_type": "code",
   "execution_count": 3,
   "metadata": {},
   "outputs": [
    {
     "data": {
      "text/plain": [
       "38.58164675532078"
      ]
     },
     "execution_count": 3,
     "metadata": {},
     "output_type": "execute_result"
    }
   ],
   "source": [
    "# .mean(): Média das idades\n",
    "media_idade = dataset[\"age\"].mean()\n",
    "media_idade"
   ]
  },
  {
   "cell_type": "code",
   "execution_count": null,
   "metadata": {},
   "outputs": [],
   "source": [
    "# Comparativo amostragens:"
   ]
  },
  {
   "cell_type": "code",
   "execution_count": 4,
   "metadata": {},
   "outputs": [],
   "source": [
    "# Amostra Aleatória Simples:\n",
    "def simple_random_sample(dataset, sample_quantity):\n",
    "    return dataset.sample(n=sample_quantity, random_state=1)"
   ]
  },
  {
   "cell_type": "code",
   "execution_count": 5,
   "metadata": {},
   "outputs": [],
   "source": [
    "df_amostra_aleatória_simples = simple_random_sample(dataset, 100)"
   ]
  },
  {
   "cell_type": "code",
   "execution_count": 6,
   "metadata": {},
   "outputs": [],
   "source": [
    "# Amostras Sistemática:\n",
    "def sample_systematic(dataset, sample_quantity):\n",
    "    population_quantity = len(dataset)\n",
    "    interval = round(population_quantity / sample_quantity)\n",
    "    # random.seed(1)\n",
    "    begin = random.randint(0, interval)\n",
    "    indices = np.arange(begin, population_quantity, step= interval)\n",
    "    # print(indices)\n",
    "    df_samples = dataset.iloc[indices]\n",
    "    return df_samples"
   ]
  },
  {
   "cell_type": "code",
   "execution_count": 9,
   "metadata": {},
   "outputs": [
    {
     "name": "stdout",
     "output_type": "stream",
     "text": [
      "[   13   339   665   991  1317  1643  1969  2295  2621  2947  3273  3599\n",
      "  3925  4251  4577  4903  5229  5555  5881  6207  6533  6859  7185  7511\n",
      "  7837  8163  8489  8815  9141  9467  9793 10119 10445 10771 11097 11423\n",
      " 11749 12075 12401 12727 13053 13379 13705 14031 14357 14683 15009 15335\n",
      " 15661 15987 16313 16639 16965 17291 17617 17943 18269 18595 18921 19247\n",
      " 19573 19899 20225 20551 20877 21203 21529 21855 22181 22507 22833 23159\n",
      " 23485 23811 24137 24463 24789 25115 25441 25767 26093 26419 26745 27071\n",
      " 27397 27723 28049 28375 28701 29027 29353 29679 30005 30331 30657 30983\n",
      " 31309 31635 31961 32287]\n"
     ]
    }
   ],
   "source": [
    "df_amostra_sistemática = sample_systematic(dataset, 100)"
   ]
  },
  {
   "cell_type": "code",
   "execution_count": null,
   "metadata": {},
   "outputs": [],
   "source": [
    "# Amostra por Grupo:"
   ]
  },
  {
   "cell_type": "code",
   "execution_count": null,
   "metadata": {},
   "outputs": [],
   "source": []
  },
  {
   "cell_type": "code",
   "execution_count": 13,
   "metadata": {},
   "outputs": [],
   "source": [
    "# Amostra Estratificada:\n",
    "def sample_stratified(dataset, field, percentage):\n",
    "    percentage_split = percentage / 100\n",
    "    split = StratifiedShuffleSplit(test_size=percentage_split, random_state=1)\n",
    "    for _, y in split.split(dataset, dataset[field]):\n",
    "        df_y = dataset.iloc[y]\n",
    "    return df_y"
   ]
  },
  {
   "cell_type": "code",
   "execution_count": 15,
   "metadata": {},
   "outputs": [],
   "source": [
    "df_amostra_estratificada = sample_stratified( dataset, \"income\", 10)"
   ]
  },
  {
   "cell_type": "code",
   "execution_count": null,
   "metadata": {},
   "outputs": [],
   "source": []
  }
 ],
 "metadata": {
  "kernelspec": {
   "display_name": "Python 3",
   "language": "python",
   "name": "python3"
  },
  "language_info": {
   "codemirror_mode": {
    "name": "ipython",
    "version": 3
   },
   "file_extension": ".py",
   "mimetype": "text/x-python",
   "name": "python",
   "nbconvert_exporter": "python",
   "pygments_lexer": "ipython3",
   "version": "3.11.2"
  },
  "orig_nbformat": 4
 },
 "nbformat": 4,
 "nbformat_minor": 2
}
